{
 "cells": [
  {
   "cell_type": "markdown",
   "id": "1603807f",
   "metadata": {},
   "source": [
    "# 0.0 Imports"
   ]
  },
  {
   "cell_type": "code",
   "execution_count": 234,
   "id": "c67975e8",
   "metadata": {
    "ExecuteTime": {
     "end_time": "2023-03-31T02:06:26.691888Z",
     "start_time": "2023-03-31T02:06:26.684904Z"
    }
   },
   "outputs": [],
   "source": [
    "# Libraries\n",
    "import pandas    as pd\n",
    "import numpy     as np\n",
    "import streamlit as st\n",
    "import folium\n",
    "import inflection\n",
    "\n",
    "import plotly.express       as px\n",
    "import plotly.graph_objects as go\n",
    "\n",
    "from PIL              import Image\n",
    "from streamlit_folium import folium_static\n",
    "from geopy.distance   import geodesic"
   ]
  },
  {
   "cell_type": "markdown",
   "id": "5a100201",
   "metadata": {},
   "source": [
    "## 0.1 Helper functions"
   ]
  },
  {
   "cell_type": "code",
   "execution_count": 235,
   "id": "4e392930",
   "metadata": {
    "ExecuteTime": {
     "end_time": "2023-03-31T02:06:26.706876Z",
     "start_time": "2023-03-31T02:06:26.693395Z"
    }
   },
   "outputs": [],
   "source": [
    "COUNTRIES = {\n",
    "1: \"India\",\n",
    "14: \"Australia\",\n",
    "30: \"Brazil\",\n",
    "37: \"Canada\",\n",
    "94: \"Indonesia\",\n",
    "148: \"New Zeland\",\n",
    "162: \"Philippines\",\n",
    "166: \"Qatar\",\n",
    "184: \"Singapure\",\n",
    "189: \"South Africa\",\n",
    "191: \"Sri Lanka\",\n",
    "208: \"Turkey\",\n",
    "214: \"United Arab Emirates\",\n",
    "215: \"England\",\n",
    "216: \"United States of America\",\n",
    "}"
   ]
  },
  {
   "cell_type": "code",
   "execution_count": 236,
   "id": "c7d1c1d5",
   "metadata": {
    "ExecuteTime": {
     "end_time": "2023-03-31T02:06:26.722378Z",
     "start_time": "2023-03-31T02:06:26.708871Z"
    }
   },
   "outputs": [],
   "source": [
    "price_range = {\n",
    "1:'cheap',\n",
    "2:'normal',\n",
    "3:'expensive',\n",
    "4:'gourmet',\n",
    "}"
   ]
  },
  {
   "cell_type": "code",
   "execution_count": 237,
   "id": "bfb94b45",
   "metadata": {
    "ExecuteTime": {
     "end_time": "2023-03-31T02:06:26.737566Z",
     "start_time": "2023-03-31T02:06:26.724402Z"
    }
   },
   "outputs": [],
   "source": [
    "COLORS = {\n",
    "\"3F7E00\": \"darkgreen\",\n",
    "\"5BA829\": \"green\",\n",
    "\"9ACD32\": \"lightgreen\",\n",
    "\"CDD614\": \"orange\",\n",
    "\"FFBA00\": \"red\",\n",
    "\"CBCBC8\": \"darkred\",\n",
    "\"FF7800\": \"darkred\",\n",
    "}"
   ]
  },
  {
   "cell_type": "code",
   "execution_count": 238,
   "id": "12289c76",
   "metadata": {
    "ExecuteTime": {
     "end_time": "2023-03-31T02:06:26.753603Z",
     "start_time": "2023-03-31T02:06:26.739560Z"
    }
   },
   "outputs": [],
   "source": [
    "def rename_columns(dataframe):\n",
    "    df = dataframe.copy()\n",
    "    title = lambda x: inflection.titleize(x)\n",
    "    snakecase = lambda x: inflection.underscore(x)\n",
    "    spaces = lambda x: x.replace(\" \", \"\")\n",
    "    cols_old = list(df.columns)\n",
    "    cols_old = list(map(title, cols_old))\n",
    "    cols_old = list(map(spaces, cols_old))\n",
    "    cols_new = list(map(snakecase, cols_old))\n",
    "    df.columns = cols_new\n",
    "    return df"
   ]
  },
  {
   "cell_type": "markdown",
   "id": "af2a9464",
   "metadata": {},
   "source": [
    "## 0.2 Loading data"
   ]
  },
  {
   "cell_type": "code",
   "execution_count": 239,
   "id": "204b7b24",
   "metadata": {
    "ExecuteTime": {
     "end_time": "2023-03-31T02:06:26.800130Z",
     "start_time": "2023-03-31T02:06:26.756097Z"
    }
   },
   "outputs": [],
   "source": [
    "df_raw = pd.read_csv('data\\zomato.csv')"
   ]
  },
  {
   "cell_type": "code",
   "execution_count": 240,
   "id": "9f2cf171",
   "metadata": {
    "ExecuteTime": {
     "end_time": "2023-03-31T02:06:26.831195Z",
     "start_time": "2023-03-31T02:06:26.802124Z"
    },
    "scrolled": false
   },
   "outputs": [
    {
     "data": {
      "text/html": [
       "<div>\n",
       "<style scoped>\n",
       "    .dataframe tbody tr th:only-of-type {\n",
       "        vertical-align: middle;\n",
       "    }\n",
       "\n",
       "    .dataframe tbody tr th {\n",
       "        vertical-align: top;\n",
       "    }\n",
       "\n",
       "    .dataframe thead th {\n",
       "        text-align: right;\n",
       "    }\n",
       "</style>\n",
       "<table border=\"1\" class=\"dataframe\">\n",
       "  <thead>\n",
       "    <tr style=\"text-align: right;\">\n",
       "      <th></th>\n",
       "      <th>Restaurant ID</th>\n",
       "      <th>Restaurant Name</th>\n",
       "      <th>Country Code</th>\n",
       "      <th>City</th>\n",
       "      <th>Address</th>\n",
       "      <th>Locality</th>\n",
       "      <th>Locality Verbose</th>\n",
       "      <th>Longitude</th>\n",
       "      <th>Latitude</th>\n",
       "      <th>Cuisines</th>\n",
       "      <th>...</th>\n",
       "      <th>Currency</th>\n",
       "      <th>Has Table booking</th>\n",
       "      <th>Has Online delivery</th>\n",
       "      <th>Is delivering now</th>\n",
       "      <th>Switch to order menu</th>\n",
       "      <th>Price range</th>\n",
       "      <th>Aggregate rating</th>\n",
       "      <th>Rating color</th>\n",
       "      <th>Rating text</th>\n",
       "      <th>Votes</th>\n",
       "    </tr>\n",
       "  </thead>\n",
       "  <tbody>\n",
       "    <tr>\n",
       "      <th>0</th>\n",
       "      <td>6310675</td>\n",
       "      <td>Mama Lou's Italian Kitchen</td>\n",
       "      <td>162</td>\n",
       "      <td>Las Piñas City</td>\n",
       "      <td>Block 1, Lot 36, Tropical Avenue Corner Tropic...</td>\n",
       "      <td>BF International</td>\n",
       "      <td>BF International, Las Piñas City</td>\n",
       "      <td>121.009787</td>\n",
       "      <td>14.447615</td>\n",
       "      <td>Italian</td>\n",
       "      <td>...</td>\n",
       "      <td>Botswana Pula(P)</td>\n",
       "      <td>1</td>\n",
       "      <td>0</td>\n",
       "      <td>0</td>\n",
       "      <td>0</td>\n",
       "      <td>3</td>\n",
       "      <td>4.6</td>\n",
       "      <td>3F7E00</td>\n",
       "      <td>Excellent</td>\n",
       "      <td>619</td>\n",
       "    </tr>\n",
       "    <tr>\n",
       "      <th>1</th>\n",
       "      <td>6310675</td>\n",
       "      <td>Mama Lou's Italian Kitchen</td>\n",
       "      <td>162</td>\n",
       "      <td>Las Piñas City</td>\n",
       "      <td>Block 1, Lot 36, Tropical Avenue Corner Tropic...</td>\n",
       "      <td>BF International</td>\n",
       "      <td>BF International, Las Piñas City</td>\n",
       "      <td>121.009787</td>\n",
       "      <td>14.447615</td>\n",
       "      <td>Italian</td>\n",
       "      <td>...</td>\n",
       "      <td>Botswana Pula(P)</td>\n",
       "      <td>1</td>\n",
       "      <td>0</td>\n",
       "      <td>0</td>\n",
       "      <td>0</td>\n",
       "      <td>3</td>\n",
       "      <td>4.6</td>\n",
       "      <td>3F7E00</td>\n",
       "      <td>Excellent</td>\n",
       "      <td>619</td>\n",
       "    </tr>\n",
       "    <tr>\n",
       "      <th>2</th>\n",
       "      <td>6314542</td>\n",
       "      <td>Blackbird</td>\n",
       "      <td>162</td>\n",
       "      <td>Makati City</td>\n",
       "      <td>Nielson Tower, Ayala Triangle Gardens, Salcedo...</td>\n",
       "      <td>Ayala Triangle Gardens, Salcedo Village, Makat...</td>\n",
       "      <td>Ayala Triangle Gardens, Salcedo Village, Makat...</td>\n",
       "      <td>121.024562</td>\n",
       "      <td>14.556042</td>\n",
       "      <td>European, Asian</td>\n",
       "      <td>...</td>\n",
       "      <td>Botswana Pula(P)</td>\n",
       "      <td>0</td>\n",
       "      <td>0</td>\n",
       "      <td>0</td>\n",
       "      <td>0</td>\n",
       "      <td>4</td>\n",
       "      <td>4.7</td>\n",
       "      <td>3F7E00</td>\n",
       "      <td>Excellent</td>\n",
       "      <td>469</td>\n",
       "    </tr>\n",
       "    <tr>\n",
       "      <th>3</th>\n",
       "      <td>6301293</td>\n",
       "      <td>Banapple</td>\n",
       "      <td>162</td>\n",
       "      <td>Makati City</td>\n",
       "      <td>Ayala Triangle Gardens, Salcedo Village, Makat...</td>\n",
       "      <td>Ayala Triangle Gardens, Salcedo Village, Makat...</td>\n",
       "      <td>Ayala Triangle Gardens, Salcedo Village, Makat...</td>\n",
       "      <td>121.023171</td>\n",
       "      <td>14.556196</td>\n",
       "      <td>Filipino, American, Italian, Bakery</td>\n",
       "      <td>...</td>\n",
       "      <td>Botswana Pula(P)</td>\n",
       "      <td>0</td>\n",
       "      <td>0</td>\n",
       "      <td>0</td>\n",
       "      <td>0</td>\n",
       "      <td>3</td>\n",
       "      <td>4.4</td>\n",
       "      <td>5BA829</td>\n",
       "      <td>Very Good</td>\n",
       "      <td>867</td>\n",
       "    </tr>\n",
       "    <tr>\n",
       "      <th>4</th>\n",
       "      <td>6315689</td>\n",
       "      <td>Bad Bird</td>\n",
       "      <td>162</td>\n",
       "      <td>Makati City</td>\n",
       "      <td>Hole In The Wall, Floor 4, Century City Mall, ...</td>\n",
       "      <td>Century City Mall, Poblacion, Makati City</td>\n",
       "      <td>Century City Mall, Poblacion, Makati City, Mak...</td>\n",
       "      <td>121.027708</td>\n",
       "      <td>14.565899</td>\n",
       "      <td>American</td>\n",
       "      <td>...</td>\n",
       "      <td>Botswana Pula(P)</td>\n",
       "      <td>0</td>\n",
       "      <td>0</td>\n",
       "      <td>0</td>\n",
       "      <td>0</td>\n",
       "      <td>3</td>\n",
       "      <td>4.4</td>\n",
       "      <td>5BA829</td>\n",
       "      <td>Very Good</td>\n",
       "      <td>858</td>\n",
       "    </tr>\n",
       "  </tbody>\n",
       "</table>\n",
       "<p>5 rows × 21 columns</p>\n",
       "</div>"
      ],
      "text/plain": [
       "   Restaurant ID             Restaurant Name  Country Code            City  \\\n",
       "0        6310675  Mama Lou's Italian Kitchen           162  Las Piñas City   \n",
       "1        6310675  Mama Lou's Italian Kitchen           162  Las Piñas City   \n",
       "2        6314542                   Blackbird           162     Makati City   \n",
       "3        6301293                    Banapple           162     Makati City   \n",
       "4        6315689                    Bad Bird           162     Makati City   \n",
       "\n",
       "                                             Address  \\\n",
       "0  Block 1, Lot 36, Tropical Avenue Corner Tropic...   \n",
       "1  Block 1, Lot 36, Tropical Avenue Corner Tropic...   \n",
       "2  Nielson Tower, Ayala Triangle Gardens, Salcedo...   \n",
       "3  Ayala Triangle Gardens, Salcedo Village, Makat...   \n",
       "4  Hole In The Wall, Floor 4, Century City Mall, ...   \n",
       "\n",
       "                                            Locality  \\\n",
       "0                                   BF International   \n",
       "1                                   BF International   \n",
       "2  Ayala Triangle Gardens, Salcedo Village, Makat...   \n",
       "3  Ayala Triangle Gardens, Salcedo Village, Makat...   \n",
       "4          Century City Mall, Poblacion, Makati City   \n",
       "\n",
       "                                    Locality Verbose   Longitude   Latitude  \\\n",
       "0                   BF International, Las Piñas City  121.009787  14.447615   \n",
       "1                   BF International, Las Piñas City  121.009787  14.447615   \n",
       "2  Ayala Triangle Gardens, Salcedo Village, Makat...  121.024562  14.556042   \n",
       "3  Ayala Triangle Gardens, Salcedo Village, Makat...  121.023171  14.556196   \n",
       "4  Century City Mall, Poblacion, Makati City, Mak...  121.027708  14.565899   \n",
       "\n",
       "                              Cuisines  ...          Currency  \\\n",
       "0                              Italian  ...  Botswana Pula(P)   \n",
       "1                              Italian  ...  Botswana Pula(P)   \n",
       "2                      European, Asian  ...  Botswana Pula(P)   \n",
       "3  Filipino, American, Italian, Bakery  ...  Botswana Pula(P)   \n",
       "4                             American  ...  Botswana Pula(P)   \n",
       "\n",
       "  Has Table booking  Has Online delivery  Is delivering now  \\\n",
       "0                 1                    0                  0   \n",
       "1                 1                    0                  0   \n",
       "2                 0                    0                  0   \n",
       "3                 0                    0                  0   \n",
       "4                 0                    0                  0   \n",
       "\n",
       "   Switch to order menu  Price range  Aggregate rating  Rating color  \\\n",
       "0                     0            3               4.6        3F7E00   \n",
       "1                     0            3               4.6        3F7E00   \n",
       "2                     0            4               4.7        3F7E00   \n",
       "3                     0            3               4.4        5BA829   \n",
       "4                     0            3               4.4        5BA829   \n",
       "\n",
       "  Rating text Votes  \n",
       "0   Excellent   619  \n",
       "1   Excellent   619  \n",
       "2   Excellent   469  \n",
       "3   Very Good   867  \n",
       "4   Very Good   858  \n",
       "\n",
       "[5 rows x 21 columns]"
      ]
     },
     "execution_count": 240,
     "metadata": {},
     "output_type": "execute_result"
    }
   ],
   "source": [
    "df_raw.head()"
   ]
  },
  {
   "cell_type": "code",
   "execution_count": null,
   "id": "848d3de7",
   "metadata": {},
   "outputs": [],
   "source": []
  },
  {
   "cell_type": "markdown",
   "id": "d6f77b29",
   "metadata": {
    "ExecuteTime": {
     "end_time": "2023-03-29T21:46:33.622112Z",
     "start_time": "2023-03-29T21:46:33.605203Z"
    }
   },
   "source": [
    "# 1.0 Data description"
   ]
  },
  {
   "cell_type": "code",
   "execution_count": 241,
   "id": "d3a9f696",
   "metadata": {
    "ExecuteTime": {
     "end_time": "2023-03-31T02:06:26.846747Z",
     "start_time": "2023-03-31T02:06:26.835729Z"
    }
   },
   "outputs": [],
   "source": [
    "df1 = df_raw.copy()"
   ]
  },
  {
   "cell_type": "markdown",
   "id": "d896a545",
   "metadata": {
    "ExecuteTime": {
     "end_time": "2023-03-27T21:49:43.050218Z",
     "start_time": "2023-03-27T21:49:43.043230Z"
    },
    "heading_collapsed": true
   },
   "source": [
    "## 1.1 Rename columns"
   ]
  },
  {
   "cell_type": "code",
   "execution_count": 242,
   "id": "aeeb8413",
   "metadata": {
    "ExecuteTime": {
     "end_time": "2023-03-31T02:06:26.862221Z",
     "start_time": "2023-03-31T02:06:26.852733Z"
    },
    "hidden": true
   },
   "outputs": [],
   "source": [
    "df1 = rename_columns(df1)"
   ]
  },
  {
   "cell_type": "markdown",
   "id": "338dfbfe",
   "metadata": {
    "heading_collapsed": true
   },
   "source": [
    "## 1.2 Data dimensions"
   ]
  },
  {
   "cell_type": "code",
   "execution_count": 243,
   "id": "a45966e8",
   "metadata": {
    "ExecuteTime": {
     "end_time": "2023-03-31T02:06:26.877639Z",
     "start_time": "2023-03-31T02:06:26.863729Z"
    },
    "hidden": true
   },
   "outputs": [
    {
     "data": {
      "text/plain": [
       "7527"
      ]
     },
     "execution_count": 243,
     "metadata": {},
     "output_type": "execute_result"
    }
   ],
   "source": [
    "# Linhas\n",
    "df1.shape[0]"
   ]
  },
  {
   "cell_type": "code",
   "execution_count": 244,
   "id": "12f2f983",
   "metadata": {
    "ExecuteTime": {
     "end_time": "2023-03-31T02:06:26.893711Z",
     "start_time": "2023-03-31T02:06:26.878665Z"
    },
    "hidden": true
   },
   "outputs": [
    {
     "data": {
      "text/plain": [
       "21"
      ]
     },
     "execution_count": 244,
     "metadata": {},
     "output_type": "execute_result"
    }
   ],
   "source": [
    "# Colunas\n",
    "df1.shape[1]"
   ]
  },
  {
   "cell_type": "markdown",
   "id": "07f3ebf9",
   "metadata": {
    "heading_collapsed": true
   },
   "source": [
    "## 1.3 Data types"
   ]
  },
  {
   "cell_type": "code",
   "execution_count": 245,
   "id": "38f2936f",
   "metadata": {
    "ExecuteTime": {
     "end_time": "2023-03-31T02:06:26.909742Z",
     "start_time": "2023-03-31T02:06:26.896733Z"
    },
    "hidden": true
   },
   "outputs": [
    {
     "data": {
      "text/plain": [
       "restaurant_id             int64\n",
       "restaurant_name          object\n",
       "country_code              int64\n",
       "city                     object\n",
       "address                  object\n",
       "locality                 object\n",
       "locality_verbose         object\n",
       "longitude               float64\n",
       "latitude                float64\n",
       "cuisines                 object\n",
       "average_cost_for_two      int64\n",
       "currency                 object\n",
       "has_table_booking         int64\n",
       "has_online_delivery       int64\n",
       "is_delivering_now         int64\n",
       "switch_to_order_menu      int64\n",
       "price_range               int64\n",
       "aggregate_rating        float64\n",
       "rating_color             object\n",
       "rating_text              object\n",
       "votes                     int64\n",
       "dtype: object"
      ]
     },
     "execution_count": 245,
     "metadata": {},
     "output_type": "execute_result"
    }
   ],
   "source": [
    "df1.dtypes"
   ]
  },
  {
   "cell_type": "markdown",
   "id": "48c44c26",
   "metadata": {
    "heading_collapsed": true
   },
   "source": [
    "## 1.4 Check NA"
   ]
  },
  {
   "cell_type": "code",
   "execution_count": 246,
   "id": "ef2fbfb5",
   "metadata": {
    "ExecuteTime": {
     "end_time": "2023-03-31T02:06:26.941214Z",
     "start_time": "2023-03-31T02:06:26.911737Z"
    },
    "hidden": true
   },
   "outputs": [
    {
     "data": {
      "text/plain": [
       "restaurant_id            0\n",
       "restaurant_name          0\n",
       "country_code             0\n",
       "city                     0\n",
       "address                  0\n",
       "locality                 0\n",
       "locality_verbose         0\n",
       "longitude                0\n",
       "latitude                 0\n",
       "cuisines                15\n",
       "average_cost_for_two     0\n",
       "currency                 0\n",
       "has_table_booking        0\n",
       "has_online_delivery      0\n",
       "is_delivering_now        0\n",
       "switch_to_order_menu     0\n",
       "price_range              0\n",
       "aggregate_rating         0\n",
       "rating_color             0\n",
       "rating_text              0\n",
       "votes                    0\n",
       "dtype: int64"
      ]
     },
     "execution_count": 246,
     "metadata": {},
     "output_type": "execute_result"
    }
   ],
   "source": [
    "df1.isna().sum()"
   ]
  },
  {
   "cell_type": "markdown",
   "id": "5cb2ccb1",
   "metadata": {},
   "source": [
    "## 1.5 Fillout NA "
   ]
  },
  {
   "cell_type": "code",
   "execution_count": null,
   "id": "cb6ef1d3",
   "metadata": {},
   "outputs": [],
   "source": []
  },
  {
   "cell_type": "markdown",
   "id": "280717e4",
   "metadata": {},
   "source": [
    "## 1.6 Change Types"
   ]
  },
  {
   "cell_type": "code",
   "execution_count": null,
   "id": "1136ce81",
   "metadata": {},
   "outputs": [],
   "source": []
  },
  {
   "cell_type": "markdown",
   "id": "833d1cc9",
   "metadata": {},
   "source": [
    "# 2.0 Data cleaning"
   ]
  },
  {
   "cell_type": "code",
   "execution_count": 247,
   "id": "24f96b8d",
   "metadata": {
    "ExecuteTime": {
     "end_time": "2023-03-31T02:06:26.956596Z",
     "start_time": "2023-03-31T02:06:26.942212Z"
    }
   },
   "outputs": [],
   "source": [
    "df2 = df1.copy()"
   ]
  },
  {
   "cell_type": "code",
   "execution_count": 248,
   "id": "a929aee1",
   "metadata": {
    "ExecuteTime": {
     "end_time": "2023-03-31T02:06:27.019085Z",
     "start_time": "2023-03-31T02:06:26.957593Z"
    }
   },
   "outputs": [
    {
     "data": {
      "text/html": [
       "<div>\n",
       "<style scoped>\n",
       "    .dataframe tbody tr th:only-of-type {\n",
       "        vertical-align: middle;\n",
       "    }\n",
       "\n",
       "    .dataframe tbody tr th {\n",
       "        vertical-align: top;\n",
       "    }\n",
       "\n",
       "    .dataframe thead th {\n",
       "        text-align: right;\n",
       "    }\n",
       "</style>\n",
       "<table border=\"1\" class=\"dataframe\">\n",
       "  <thead>\n",
       "    <tr style=\"text-align: right;\">\n",
       "      <th></th>\n",
       "      <th>restaurant_id</th>\n",
       "      <th>country_code</th>\n",
       "      <th>longitude</th>\n",
       "      <th>latitude</th>\n",
       "      <th>average_cost_for_two</th>\n",
       "      <th>has_table_booking</th>\n",
       "      <th>has_online_delivery</th>\n",
       "      <th>is_delivering_now</th>\n",
       "      <th>switch_to_order_menu</th>\n",
       "      <th>price_range</th>\n",
       "      <th>aggregate_rating</th>\n",
       "      <th>votes</th>\n",
       "    </tr>\n",
       "  </thead>\n",
       "  <tbody>\n",
       "    <tr>\n",
       "      <th>count</th>\n",
       "      <td>7.527000e+03</td>\n",
       "      <td>7527.000000</td>\n",
       "      <td>7527.000000</td>\n",
       "      <td>7527.000000</td>\n",
       "      <td>7.527000e+03</td>\n",
       "      <td>7527.000000</td>\n",
       "      <td>7527.000000</td>\n",
       "      <td>7527.000000</td>\n",
       "      <td>7527.0</td>\n",
       "      <td>7527.000000</td>\n",
       "      <td>7527.000000</td>\n",
       "      <td>7527.000000</td>\n",
       "    </tr>\n",
       "    <tr>\n",
       "      <th>mean</th>\n",
       "      <td>1.055689e+07</td>\n",
       "      <td>93.065365</td>\n",
       "      <td>33.764092</td>\n",
       "      <td>19.332787</td>\n",
       "      <td>7.152113e+03</td>\n",
       "      <td>0.062176</td>\n",
       "      <td>0.352464</td>\n",
       "      <td>0.174306</td>\n",
       "      <td>0.0</td>\n",
       "      <td>2.624552</td>\n",
       "      <td>4.118055</td>\n",
       "      <td>616.401488</td>\n",
       "    </tr>\n",
       "    <tr>\n",
       "      <th>std</th>\n",
       "      <td>7.075141e+06</td>\n",
       "      <td>99.031229</td>\n",
       "      <td>77.395241</td>\n",
       "      <td>23.255979</td>\n",
       "      <td>2.906068e+05</td>\n",
       "      <td>0.241491</td>\n",
       "      <td>0.477769</td>\n",
       "      <td>0.379397</td>\n",
       "      <td>0.0</td>\n",
       "      <td>0.959794</td>\n",
       "      <td>0.680191</td>\n",
       "      <td>1127.697932</td>\n",
       "    </tr>\n",
       "    <tr>\n",
       "      <th>min</th>\n",
       "      <td>5.490000e+02</td>\n",
       "      <td>1.000000</td>\n",
       "      <td>-122.700455</td>\n",
       "      <td>-41.330428</td>\n",
       "      <td>0.000000e+00</td>\n",
       "      <td>0.000000</td>\n",
       "      <td>0.000000</td>\n",
       "      <td>0.000000</td>\n",
       "      <td>0.0</td>\n",
       "      <td>1.000000</td>\n",
       "      <td>0.000000</td>\n",
       "      <td>0.000000</td>\n",
       "    </tr>\n",
       "    <tr>\n",
       "      <th>25%</th>\n",
       "      <td>3.500060e+06</td>\n",
       "      <td>1.000000</td>\n",
       "      <td>-4.258142</td>\n",
       "      <td>12.923378</td>\n",
       "      <td>6.000000e+01</td>\n",
       "      <td>0.000000</td>\n",
       "      <td>0.000000</td>\n",
       "      <td>0.000000</td>\n",
       "      <td>0.0</td>\n",
       "      <td>2.000000</td>\n",
       "      <td>4.000000</td>\n",
       "      <td>152.000000</td>\n",
       "    </tr>\n",
       "    <tr>\n",
       "      <th>50%</th>\n",
       "      <td>7.701457e+06</td>\n",
       "      <td>30.000000</td>\n",
       "      <td>73.785121</td>\n",
       "      <td>25.246955</td>\n",
       "      <td>2.900000e+02</td>\n",
       "      <td>0.000000</td>\n",
       "      <td>0.000000</td>\n",
       "      <td>0.000000</td>\n",
       "      <td>0.0</td>\n",
       "      <td>3.000000</td>\n",
       "      <td>4.200000</td>\n",
       "      <td>335.000000</td>\n",
       "    </tr>\n",
       "    <tr>\n",
       "      <th>75%</th>\n",
       "      <td>1.714715e+07</td>\n",
       "      <td>214.000000</td>\n",
       "      <td>79.833706</td>\n",
       "      <td>31.636552</td>\n",
       "      <td>6.000000e+02</td>\n",
       "      <td>0.000000</td>\n",
       "      <td>1.000000</td>\n",
       "      <td>0.000000</td>\n",
       "      <td>0.0</td>\n",
       "      <td>3.000000</td>\n",
       "      <td>4.500000</td>\n",
       "      <td>663.000000</td>\n",
       "    </tr>\n",
       "    <tr>\n",
       "      <th>max</th>\n",
       "      <td>1.904028e+07</td>\n",
       "      <td>216.000000</td>\n",
       "      <td>175.310552</td>\n",
       "      <td>55.976980</td>\n",
       "      <td>2.500002e+07</td>\n",
       "      <td>1.000000</td>\n",
       "      <td>1.000000</td>\n",
       "      <td>1.000000</td>\n",
       "      <td>0.0</td>\n",
       "      <td>4.000000</td>\n",
       "      <td>4.900000</td>\n",
       "      <td>41333.000000</td>\n",
       "    </tr>\n",
       "  </tbody>\n",
       "</table>\n",
       "</div>"
      ],
      "text/plain": [
       "       restaurant_id  country_code    longitude     latitude  \\\n",
       "count   7.527000e+03   7527.000000  7527.000000  7527.000000   \n",
       "mean    1.055689e+07     93.065365    33.764092    19.332787   \n",
       "std     7.075141e+06     99.031229    77.395241    23.255979   \n",
       "min     5.490000e+02      1.000000  -122.700455   -41.330428   \n",
       "25%     3.500060e+06      1.000000    -4.258142    12.923378   \n",
       "50%     7.701457e+06     30.000000    73.785121    25.246955   \n",
       "75%     1.714715e+07    214.000000    79.833706    31.636552   \n",
       "max     1.904028e+07    216.000000   175.310552    55.976980   \n",
       "\n",
       "       average_cost_for_two  has_table_booking  has_online_delivery  \\\n",
       "count          7.527000e+03        7527.000000          7527.000000   \n",
       "mean           7.152113e+03           0.062176             0.352464   \n",
       "std            2.906068e+05           0.241491             0.477769   \n",
       "min            0.000000e+00           0.000000             0.000000   \n",
       "25%            6.000000e+01           0.000000             0.000000   \n",
       "50%            2.900000e+02           0.000000             0.000000   \n",
       "75%            6.000000e+02           0.000000             1.000000   \n",
       "max            2.500002e+07           1.000000             1.000000   \n",
       "\n",
       "       is_delivering_now  switch_to_order_menu  price_range  aggregate_rating  \\\n",
       "count        7527.000000                7527.0  7527.000000       7527.000000   \n",
       "mean            0.174306                   0.0     2.624552          4.118055   \n",
       "std             0.379397                   0.0     0.959794          0.680191   \n",
       "min             0.000000                   0.0     1.000000          0.000000   \n",
       "25%             0.000000                   0.0     2.000000          4.000000   \n",
       "50%             0.000000                   0.0     3.000000          4.200000   \n",
       "75%             0.000000                   0.0     3.000000          4.500000   \n",
       "max             1.000000                   0.0     4.000000          4.900000   \n",
       "\n",
       "              votes  \n",
       "count   7527.000000  \n",
       "mean     616.401488  \n",
       "std     1127.697932  \n",
       "min        0.000000  \n",
       "25%      152.000000  \n",
       "50%      335.000000  \n",
       "75%      663.000000  \n",
       "max    41333.000000  "
      ]
     },
     "execution_count": 248,
     "metadata": {},
     "output_type": "execute_result"
    }
   ],
   "source": [
    "df2.describe()"
   ]
  },
  {
   "cell_type": "code",
   "execution_count": 249,
   "id": "ab37641d",
   "metadata": {
    "ExecuteTime": {
     "end_time": "2023-03-31T02:06:27.035344Z",
     "start_time": "2023-03-31T02:06:27.028605Z"
    }
   },
   "outputs": [],
   "source": [
    "# Drop switch_to_order_menu - only 0 values\n",
    "df2 = df2.drop(columns=['switch_to_order_menu'], axis=1)"
   ]
  },
  {
   "cell_type": "code",
   "execution_count": 250,
   "id": "9f0db391",
   "metadata": {
    "ExecuteTime": {
     "end_time": "2023-03-31T02:06:27.052704Z",
     "start_time": "2023-03-31T02:06:27.037341Z"
    }
   },
   "outputs": [],
   "source": [
    "# Drop duplicates in considering the restaurant id, keeping the first ones\n",
    "df2 = df2.drop_duplicates(subset=['restaurant_id'], keep='first')"
   ]
  },
  {
   "cell_type": "code",
   "execution_count": 251,
   "id": "d2d6a4db",
   "metadata": {
    "ExecuteTime": {
     "end_time": "2023-03-31T02:06:27.066691Z",
     "start_time": "2023-03-31T02:06:27.054205Z"
    }
   },
   "outputs": [],
   "source": [
    "# Drop NA\n",
    "df2 = df2.dropna()"
   ]
  },
  {
   "cell_type": "code",
   "execution_count": 252,
   "id": "496be5d7",
   "metadata": {
    "ExecuteTime": {
     "end_time": "2023-03-31T02:06:27.083669Z",
     "start_time": "2023-03-31T02:06:27.068684Z"
    }
   },
   "outputs": [
    {
     "data": {
      "text/plain": [
       "restaurant_id           0\n",
       "restaurant_name         0\n",
       "country_code            0\n",
       "city                    0\n",
       "address                 0\n",
       "locality                0\n",
       "locality_verbose        0\n",
       "longitude               0\n",
       "latitude                0\n",
       "cuisines                0\n",
       "average_cost_for_two    0\n",
       "currency                0\n",
       "has_table_booking       0\n",
       "has_online_delivery     0\n",
       "is_delivering_now       0\n",
       "price_range             0\n",
       "aggregate_rating        0\n",
       "rating_color            0\n",
       "rating_text             0\n",
       "votes                   0\n",
       "dtype: int64"
      ]
     },
     "execution_count": 252,
     "metadata": {},
     "output_type": "execute_result"
    }
   ],
   "source": [
    "df2.isnull().sum()"
   ]
  },
  {
   "cell_type": "markdown",
   "id": "9e61bd22",
   "metadata": {},
   "source": [
    "# 3.0 Feature engineering "
   ]
  },
  {
   "cell_type": "code",
   "execution_count": 253,
   "id": "2c0ba79d",
   "metadata": {
    "ExecuteTime": {
     "end_time": "2023-03-31T02:06:27.097901Z",
     "start_time": "2023-03-31T02:06:27.086065Z"
    }
   },
   "outputs": [],
   "source": [
    "df3 = df2.copy()"
   ]
  },
  {
   "cell_type": "code",
   "execution_count": 254,
   "id": "0f1e2fcf",
   "metadata": {
    "ExecuteTime": {
     "end_time": "2023-03-31T02:06:27.113384Z",
     "start_time": "2023-03-31T02:06:27.101891Z"
    }
   },
   "outputs": [
    {
     "data": {
      "text/plain": [
       "Index(['restaurant_id', 'restaurant_name', 'country_code', 'city', 'address',\n",
       "       'locality', 'locality_verbose', 'longitude', 'latitude', 'cuisines',\n",
       "       'average_cost_for_two', 'currency', 'has_table_booking',\n",
       "       'has_online_delivery', 'is_delivering_now', 'price_range',\n",
       "       'aggregate_rating', 'rating_color', 'rating_text', 'votes'],\n",
       "      dtype='object')"
      ]
     },
     "execution_count": 254,
     "metadata": {},
     "output_type": "execute_result"
    }
   ],
   "source": [
    "df3.columns"
   ]
  },
  {
   "cell_type": "code",
   "execution_count": 255,
   "id": "8cdf3604",
   "metadata": {
    "ExecuteTime": {
     "end_time": "2023-03-31T02:06:27.128954Z",
     "start_time": "2023-03-31T02:06:27.114691Z"
    }
   },
   "outputs": [],
   "source": [
    "# Mapping the column country_code to contry name\n",
    "df3['country'] = df3['country_code'].map(COUNTRIES)"
   ]
  },
  {
   "cell_type": "code",
   "execution_count": 256,
   "id": "5c6679c6",
   "metadata": {
    "ExecuteTime": {
     "end_time": "2023-03-31T02:06:27.144485Z",
     "start_time": "2023-03-31T02:06:27.129952Z"
    }
   },
   "outputs": [],
   "source": [
    "# Creating price type\n",
    "df3['price_type'] = df3['price_range'].map(price_range)"
   ]
  },
  {
   "cell_type": "code",
   "execution_count": 257,
   "id": "8a33b33c",
   "metadata": {
    "ExecuteTime": {
     "end_time": "2023-03-31T02:06:27.159867Z",
     "start_time": "2023-03-31T02:06:27.145482Z"
    }
   },
   "outputs": [],
   "source": [
    "# Changing the rating color\n",
    "df3['rating_color'] = df3['rating_color'].map(COLORS)"
   ]
  },
  {
   "cell_type": "code",
   "execution_count": 258,
   "id": "0a21e335",
   "metadata": {
    "ExecuteTime": {
     "end_time": "2023-03-31T02:06:27.175529Z",
     "start_time": "2023-03-31T02:06:27.160864Z"
    }
   },
   "outputs": [],
   "source": [
    "# Only consider the first type of cousine\n",
    "df3[\"cuisines\"] = df3.loc[:, \"cuisines\"].apply(lambda x: x.split(\",\")[0])"
   ]
  },
  {
   "cell_type": "code",
   "execution_count": 259,
   "id": "e6901abe",
   "metadata": {
    "ExecuteTime": {
     "end_time": "2023-03-31T02:06:27.191010Z",
     "start_time": "2023-03-31T02:06:27.176528Z"
    }
   },
   "outputs": [],
   "source": [
    "binary = {0:'Não', 1:'Sim'}\n",
    "\n",
    "# Change the binary columns to yes or no\n",
    "df3['has_table_booking'] = df3['has_table_booking'].map(binary)\n",
    "df3['has_online_delivery'] = df3['has_online_delivery'].map(binary)\n",
    "df3['is_delivering_now'] = df3['is_delivering_now'].map(binary)"
   ]
  },
  {
   "cell_type": "code",
   "execution_count": 260,
   "id": "3175eca5",
   "metadata": {
    "ExecuteTime": {
     "end_time": "2023-03-31T02:06:27.206144Z",
     "start_time": "2023-03-31T02:06:27.192008Z"
    }
   },
   "outputs": [],
   "source": [
    "rating_text_pt = {\n",
    "    'Excellent':'Excelente',\n",
    "    'Very Good':'Muito bom', \n",
    "    'Good':'Bom',\n",
    "    'Average':'Regular',\n",
    "    'Not rated':'Não avaliado',\n",
    "    'Poor':'Ruim',\n",
    "    'Vynikajúce':'Excelente',\n",
    "    'Bardzo dobrze':'Muito bom',\n",
    "    'Muy Bueno':'Muito bom',\n",
    "    'Bueno':'Bom',\n",
    "    'Baik':'Bom',\n",
    "    'Biasa':'Regular',\n",
    "    'Skvělá volba':'Excelente',\n",
    "    'Velmi dobré':'Muito bom',\n",
    "    'Buono':'Bom',\n",
    "    'Skvělé':'Excelente',\n",
    "    'Wybitnie':'Excelente',\n",
    "    'Sangat Baik': 'Muito bom',\n",
    "    'Terbaik':'Excelente',\n",
    "    'İyi':'Bom',\n",
    "    'Excelente':'Excelente',\n",
    "    'Muito bom':'Muito bom',\n",
    "    'Muito Bom':'Muito Bom',\n",
    "    'Bom':'Bom',\n",
    "    'Harika':'Excelente',\n",
    "    'Çok iyi':'Muito bom',\n",
    "    'Eccellente':'Excelente',\n",
    "    'Veľmi dobré':'Muito bom',\n",
    "}"
   ]
  },
  {
   "cell_type": "code",
   "execution_count": 261,
   "id": "258db8e0",
   "metadata": {
    "ExecuteTime": {
     "end_time": "2023-03-31T02:06:27.221641Z",
     "start_time": "2023-03-31T02:06:27.208139Z"
    }
   },
   "outputs": [],
   "source": [
    "df3['rating_text_pt'] = df3['rating_text'].map(rating_text_pt).str.title()"
   ]
  },
  {
   "cell_type": "code",
   "execution_count": 262,
   "id": "c2f383c6",
   "metadata": {
    "ExecuteTime": {
     "end_time": "2023-03-31T02:06:27.237187Z",
     "start_time": "2023-03-31T02:06:27.223668Z"
    }
   },
   "outputs": [],
   "source": [
    "currency_values = {'Botswana Pula(P)': 0.068, \n",
    "                   'Brazilian Real(R$)': 0.164, \n",
    "                   'Dollar($)': 1.0, \n",
    "                   'Emirati Diram(AED)': 0.27, \n",
    "                   'Indian Rupees(Rs.)': 0.013, \n",
    "                   'Indonesian Rupiah(IDR)': 0.000069, \n",
    "                   'NewZealand($)': 0.684, \n",
    "                   'Pounds(£)': 1.388, \n",
    "                   'Qatari Rial(QR)': 0.27, \n",
    "                   'Rand(R)': 0.066, \n",
    "                   'Sri Lankan Rupee(LKR)': 0.005, \n",
    "                   'Turkish Lira(TL)': 0.118}\n",
    "\n",
    "\n",
    "df3['convert_dol'] = df3.loc[:, 'currency'].map(currency_values)\n",
    "\n",
    "df3['avg_cost_dol'] = df3['average_cost_for_two'] * df3['convert_dol']"
   ]
  },
  {
   "cell_type": "code",
   "execution_count": 263,
   "id": "4718d5ff",
   "metadata": {
    "ExecuteTime": {
     "end_time": "2023-03-31T02:06:27.268684Z",
     "start_time": "2023-03-31T02:06:27.241208Z"
    }
   },
   "outputs": [
    {
     "data": {
      "text/html": [
       "<div>\n",
       "<style scoped>\n",
       "    .dataframe tbody tr th:only-of-type {\n",
       "        vertical-align: middle;\n",
       "    }\n",
       "\n",
       "    .dataframe tbody tr th {\n",
       "        vertical-align: top;\n",
       "    }\n",
       "\n",
       "    .dataframe thead th {\n",
       "        text-align: right;\n",
       "    }\n",
       "</style>\n",
       "<table border=\"1\" class=\"dataframe\">\n",
       "  <thead>\n",
       "    <tr style=\"text-align: right;\">\n",
       "      <th></th>\n",
       "      <th>3838</th>\n",
       "    </tr>\n",
       "  </thead>\n",
       "  <tbody>\n",
       "    <tr>\n",
       "      <th>restaurant_id</th>\n",
       "      <td>2101933</td>\n",
       "    </tr>\n",
       "    <tr>\n",
       "      <th>restaurant_name</th>\n",
       "      <td>Fat Belly</td>\n",
       "    </tr>\n",
       "    <tr>\n",
       "      <th>country_code</th>\n",
       "      <td>1</td>\n",
       "    </tr>\n",
       "    <tr>\n",
       "      <th>city</th>\n",
       "      <td>Guwahati</td>\n",
       "    </tr>\n",
       "    <tr>\n",
       "      <th>address</th>\n",
       "      <td>Opposite Hotel Blue Moon, Bhuban Road, Uzan Ba...</td>\n",
       "    </tr>\n",
       "    <tr>\n",
       "      <th>locality</th>\n",
       "      <td>Uzan Bazaar</td>\n",
       "    </tr>\n",
       "    <tr>\n",
       "      <th>locality_verbose</th>\n",
       "      <td>Uzan Bazaar, Guwahati</td>\n",
       "    </tr>\n",
       "    <tr>\n",
       "      <th>longitude</th>\n",
       "      <td>91.753365</td>\n",
       "    </tr>\n",
       "    <tr>\n",
       "      <th>latitude</th>\n",
       "      <td>26.191359</td>\n",
       "    </tr>\n",
       "    <tr>\n",
       "      <th>cuisines</th>\n",
       "      <td>Asian</td>\n",
       "    </tr>\n",
       "    <tr>\n",
       "      <th>average_cost_for_two</th>\n",
       "      <td>500</td>\n",
       "    </tr>\n",
       "    <tr>\n",
       "      <th>currency</th>\n",
       "      <td>Indian Rupees(Rs.)</td>\n",
       "    </tr>\n",
       "    <tr>\n",
       "      <th>has_table_booking</th>\n",
       "      <td>Não</td>\n",
       "    </tr>\n",
       "    <tr>\n",
       "      <th>has_online_delivery</th>\n",
       "      <td>Não</td>\n",
       "    </tr>\n",
       "    <tr>\n",
       "      <th>is_delivering_now</th>\n",
       "      <td>Não</td>\n",
       "    </tr>\n",
       "    <tr>\n",
       "      <th>price_range</th>\n",
       "      <td>2</td>\n",
       "    </tr>\n",
       "    <tr>\n",
       "      <th>aggregate_rating</th>\n",
       "      <td>4.3</td>\n",
       "    </tr>\n",
       "    <tr>\n",
       "      <th>rating_color</th>\n",
       "      <td>green</td>\n",
       "    </tr>\n",
       "    <tr>\n",
       "      <th>rating_text</th>\n",
       "      <td>Very Good</td>\n",
       "    </tr>\n",
       "    <tr>\n",
       "      <th>votes</th>\n",
       "      <td>247</td>\n",
       "    </tr>\n",
       "    <tr>\n",
       "      <th>country</th>\n",
       "      <td>India</td>\n",
       "    </tr>\n",
       "    <tr>\n",
       "      <th>price_type</th>\n",
       "      <td>normal</td>\n",
       "    </tr>\n",
       "    <tr>\n",
       "      <th>rating_text_pt</th>\n",
       "      <td>Muito Bom</td>\n",
       "    </tr>\n",
       "    <tr>\n",
       "      <th>convert_dol</th>\n",
       "      <td>0.013</td>\n",
       "    </tr>\n",
       "    <tr>\n",
       "      <th>avg_cost_dol</th>\n",
       "      <td>6.5</td>\n",
       "    </tr>\n",
       "  </tbody>\n",
       "</table>\n",
       "</div>"
      ],
      "text/plain": [
       "                                                                   3838\n",
       "restaurant_id                                                   2101933\n",
       "restaurant_name                                               Fat Belly\n",
       "country_code                                                          1\n",
       "city                                                           Guwahati\n",
       "address               Opposite Hotel Blue Moon, Bhuban Road, Uzan Ba...\n",
       "locality                                                    Uzan Bazaar\n",
       "locality_verbose                                  Uzan Bazaar, Guwahati\n",
       "longitude                                                     91.753365\n",
       "latitude                                                      26.191359\n",
       "cuisines                                                          Asian\n",
       "average_cost_for_two                                                500\n",
       "currency                                             Indian Rupees(Rs.)\n",
       "has_table_booking                                                   Não\n",
       "has_online_delivery                                                 Não\n",
       "is_delivering_now                                                   Não\n",
       "price_range                                                           2\n",
       "aggregate_rating                                                    4.3\n",
       "rating_color                                                      green\n",
       "rating_text                                                   Very Good\n",
       "votes                                                               247\n",
       "country                                                           India\n",
       "price_type                                                       normal\n",
       "rating_text_pt                                                Muito Bom\n",
       "convert_dol                                                       0.013\n",
       "avg_cost_dol                                                        6.5"
      ]
     },
     "execution_count": 263,
     "metadata": {},
     "output_type": "execute_result"
    }
   ],
   "source": [
    "df3.sample(1).T"
   ]
  },
  {
   "cell_type": "code",
   "execution_count": 264,
   "id": "e97ae626",
   "metadata": {
    "ExecuteTime": {
     "end_time": "2023-03-31T02:06:27.285924Z",
     "start_time": "2023-03-31T02:06:27.270648Z"
    }
   },
   "outputs": [],
   "source": [
    "drop = ['country_code', 'price_range', 'rating_text', 'convert_dol']\n",
    "\n",
    "df3 = df3.drop(columns=drop, axis=1)"
   ]
  },
  {
   "cell_type": "markdown",
   "id": "f866b325",
   "metadata": {},
   "source": [
    "# 4.0 Answering questions"
   ]
  },
  {
   "cell_type": "code",
   "execution_count": 265,
   "id": "607dc081",
   "metadata": {
    "ExecuteTime": {
     "end_time": "2023-03-31T02:06:27.299421Z",
     "start_time": "2023-03-31T02:06:27.288917Z"
    }
   },
   "outputs": [],
   "source": [
    "df4 = df3.copy()"
   ]
  },
  {
   "cell_type": "markdown",
   "id": "5ddcba2f",
   "metadata": {},
   "source": [
    "## 4.1 Geral"
   ]
  },
  {
   "cell_type": "markdown",
   "id": "8d82cfe6",
   "metadata": {
    "heading_collapsed": true
   },
   "source": [
    "### 1. Quantos restaurantes únicos estão registrados?"
   ]
  },
  {
   "cell_type": "code",
   "execution_count": null,
   "id": "50bc4bd3",
   "metadata": {
    "ExecuteTime": {
     "start_time": "2023-03-31T02:06:26.757Z"
    },
    "hidden": true
   },
   "outputs": [],
   "source": [
    "df4['restaurant_id'].nunique()"
   ]
  },
  {
   "cell_type": "markdown",
   "id": "f585e556",
   "metadata": {
    "heading_collapsed": true
   },
   "source": [
    "### 2. Quantos países únicos estão registrados?\n",
    "\n"
   ]
  },
  {
   "cell_type": "code",
   "execution_count": null,
   "id": "faa796bf",
   "metadata": {
    "ExecuteTime": {
     "start_time": "2023-03-31T02:06:26.759Z"
    },
    "hidden": true
   },
   "outputs": [],
   "source": [
    "df4['country'].nunique()"
   ]
  },
  {
   "cell_type": "markdown",
   "id": "4efc09cf",
   "metadata": {
    "heading_collapsed": true
   },
   "source": [
    "### 3. Quantas cidades únicas estão registradas?\n"
   ]
  },
  {
   "cell_type": "code",
   "execution_count": null,
   "id": "42f8af7d",
   "metadata": {
    "ExecuteTime": {
     "start_time": "2023-03-31T02:06:26.761Z"
    },
    "hidden": true
   },
   "outputs": [],
   "source": [
    "df4['city'].nunique()"
   ]
  },
  {
   "cell_type": "markdown",
   "id": "18cb7bec",
   "metadata": {
    "heading_collapsed": true
   },
   "source": [
    "### 4. Qual o total de avaliações feitas?\n"
   ]
  },
  {
   "cell_type": "code",
   "execution_count": null,
   "id": "d2f1a0b3",
   "metadata": {
    "ExecuteTime": {
     "start_time": "2023-03-31T02:06:26.764Z"
    },
    "hidden": true
   },
   "outputs": [],
   "source": [
    "df4['votes'].sum()"
   ]
  },
  {
   "cell_type": "markdown",
   "id": "8ee0a788",
   "metadata": {},
   "source": [
    "### 5. Qual o total de tipos de culinária registrados?"
   ]
  },
  {
   "cell_type": "code",
   "execution_count": null,
   "id": "28fbbfa9",
   "metadata": {
    "ExecuteTime": {
     "start_time": "2023-03-31T02:06:26.767Z"
    }
   },
   "outputs": [],
   "source": [
    "df4['cuisines'].nunique()"
   ]
  },
  {
   "cell_type": "markdown",
   "id": "dba9f0f9",
   "metadata": {
    "ExecuteTime": {
     "end_time": "2023-03-29T21:49:36.719093Z",
     "start_time": "2023-03-29T21:49:36.714105Z"
    }
   },
   "source": [
    "## 4.2 País"
   ]
  },
  {
   "cell_type": "markdown",
   "id": "2252ccd2",
   "metadata": {},
   "source": [
    "### 1. Qual o nome do país que possui mais cidades registradas?"
   ]
  },
  {
   "cell_type": "code",
   "execution_count": 331,
   "id": "fb9341c1",
   "metadata": {
    "ExecuteTime": {
     "end_time": "2023-03-31T11:51:57.728126Z",
     "start_time": "2023-03-31T11:51:57.703193Z"
    }
   },
   "outputs": [
    {
     "data": {
      "text/html": [
       "<div>\n",
       "<style scoped>\n",
       "    .dataframe tbody tr th:only-of-type {\n",
       "        vertical-align: middle;\n",
       "    }\n",
       "\n",
       "    .dataframe tbody tr th {\n",
       "        vertical-align: top;\n",
       "    }\n",
       "\n",
       "    .dataframe thead th {\n",
       "        text-align: right;\n",
       "    }\n",
       "</style>\n",
       "<table border=\"1\" class=\"dataframe\">\n",
       "  <thead>\n",
       "    <tr style=\"text-align: right;\">\n",
       "      <th></th>\n",
       "      <th>country</th>\n",
       "      <th>city</th>\n",
       "    </tr>\n",
       "  </thead>\n",
       "  <tbody>\n",
       "    <tr>\n",
       "      <th>4</th>\n",
       "      <td>India</td>\n",
       "      <td>3111</td>\n",
       "    </tr>\n",
       "    <tr>\n",
       "      <th>14</th>\n",
       "      <td>United States of America</td>\n",
       "      <td>1374</td>\n",
       "    </tr>\n",
       "    <tr>\n",
       "      <th>3</th>\n",
       "      <td>England</td>\n",
       "      <td>400</td>\n",
       "    </tr>\n",
       "    <tr>\n",
       "      <th>10</th>\n",
       "      <td>South Africa</td>\n",
       "      <td>346</td>\n",
       "    </tr>\n",
       "    <tr>\n",
       "      <th>13</th>\n",
       "      <td>United Arab Emirates</td>\n",
       "      <td>300</td>\n",
       "    </tr>\n",
       "    <tr>\n",
       "      <th>1</th>\n",
       "      <td>Brazil</td>\n",
       "      <td>240</td>\n",
       "    </tr>\n",
       "    <tr>\n",
       "      <th>6</th>\n",
       "      <td>New Zeland</td>\n",
       "      <td>239</td>\n",
       "    </tr>\n",
       "    <tr>\n",
       "      <th>0</th>\n",
       "      <td>Australia</td>\n",
       "      <td>180</td>\n",
       "    </tr>\n",
       "    <tr>\n",
       "      <th>2</th>\n",
       "      <td>Canada</td>\n",
       "      <td>180</td>\n",
       "    </tr>\n",
       "    <tr>\n",
       "      <th>12</th>\n",
       "      <td>Turkey</td>\n",
       "      <td>159</td>\n",
       "    </tr>\n",
       "    <tr>\n",
       "      <th>5</th>\n",
       "      <td>Indonesia</td>\n",
       "      <td>80</td>\n",
       "    </tr>\n",
       "    <tr>\n",
       "      <th>7</th>\n",
       "      <td>Philippines</td>\n",
       "      <td>80</td>\n",
       "    </tr>\n",
       "    <tr>\n",
       "      <th>8</th>\n",
       "      <td>Qatar</td>\n",
       "      <td>80</td>\n",
       "    </tr>\n",
       "    <tr>\n",
       "      <th>9</th>\n",
       "      <td>Singapure</td>\n",
       "      <td>80</td>\n",
       "    </tr>\n",
       "    <tr>\n",
       "      <th>11</th>\n",
       "      <td>Sri Lanka</td>\n",
       "      <td>80</td>\n",
       "    </tr>\n",
       "  </tbody>\n",
       "</table>\n",
       "</div>"
      ],
      "text/plain": [
       "                     country  city\n",
       "4                      India  3111\n",
       "14  United States of America  1374\n",
       "3                    England   400\n",
       "10              South Africa   346\n",
       "13      United Arab Emirates   300\n",
       "1                     Brazil   240\n",
       "6                 New Zeland   239\n",
       "0                  Australia   180\n",
       "2                     Canada   180\n",
       "12                    Turkey   159\n",
       "5                  Indonesia    80\n",
       "7                Philippines    80\n",
       "8                      Qatar    80\n",
       "9                  Singapure    80\n",
       "11                 Sri Lanka    80"
      ]
     },
     "execution_count": 331,
     "metadata": {},
     "output_type": "execute_result"
    }
   ],
   "source": [
    "cols = ['city', 'country']\n",
    "\n",
    "df_aux = df4.loc[:, cols].groupby(cols[1]).count().reset_index().sort_values(cols[0], ascending=False)\n",
    "df_aux.iloc[0,0]"
   ]
  },
  {
   "cell_type": "markdown",
   "id": "6efc7ade",
   "metadata": {},
   "source": [
    "### 2. Qual o nome do país que possui mais restaurantes registrados?\n",
    "\n"
   ]
  },
  {
   "cell_type": "code",
   "execution_count": 332,
   "id": "c4d2bbfb",
   "metadata": {
    "ExecuteTime": {
     "end_time": "2023-03-31T11:52:48.422396Z",
     "start_time": "2023-03-31T11:52:48.407436Z"
    }
   },
   "outputs": [
    {
     "data": {
      "text/html": [
       "<div>\n",
       "<style scoped>\n",
       "    .dataframe tbody tr th:only-of-type {\n",
       "        vertical-align: middle;\n",
       "    }\n",
       "\n",
       "    .dataframe tbody tr th {\n",
       "        vertical-align: top;\n",
       "    }\n",
       "\n",
       "    .dataframe thead th {\n",
       "        text-align: right;\n",
       "    }\n",
       "</style>\n",
       "<table border=\"1\" class=\"dataframe\">\n",
       "  <thead>\n",
       "    <tr style=\"text-align: right;\">\n",
       "      <th></th>\n",
       "      <th>country</th>\n",
       "      <th>restaurant_id</th>\n",
       "    </tr>\n",
       "  </thead>\n",
       "  <tbody>\n",
       "    <tr>\n",
       "      <th>4</th>\n",
       "      <td>India</td>\n",
       "      <td>3111</td>\n",
       "    </tr>\n",
       "    <tr>\n",
       "      <th>14</th>\n",
       "      <td>United States of America</td>\n",
       "      <td>1374</td>\n",
       "    </tr>\n",
       "    <tr>\n",
       "      <th>3</th>\n",
       "      <td>England</td>\n",
       "      <td>400</td>\n",
       "    </tr>\n",
       "    <tr>\n",
       "      <th>10</th>\n",
       "      <td>South Africa</td>\n",
       "      <td>346</td>\n",
       "    </tr>\n",
       "    <tr>\n",
       "      <th>13</th>\n",
       "      <td>United Arab Emirates</td>\n",
       "      <td>300</td>\n",
       "    </tr>\n",
       "    <tr>\n",
       "      <th>1</th>\n",
       "      <td>Brazil</td>\n",
       "      <td>240</td>\n",
       "    </tr>\n",
       "    <tr>\n",
       "      <th>6</th>\n",
       "      <td>New Zeland</td>\n",
       "      <td>239</td>\n",
       "    </tr>\n",
       "    <tr>\n",
       "      <th>0</th>\n",
       "      <td>Australia</td>\n",
       "      <td>180</td>\n",
       "    </tr>\n",
       "    <tr>\n",
       "      <th>2</th>\n",
       "      <td>Canada</td>\n",
       "      <td>180</td>\n",
       "    </tr>\n",
       "    <tr>\n",
       "      <th>12</th>\n",
       "      <td>Turkey</td>\n",
       "      <td>159</td>\n",
       "    </tr>\n",
       "    <tr>\n",
       "      <th>5</th>\n",
       "      <td>Indonesia</td>\n",
       "      <td>80</td>\n",
       "    </tr>\n",
       "    <tr>\n",
       "      <th>7</th>\n",
       "      <td>Philippines</td>\n",
       "      <td>80</td>\n",
       "    </tr>\n",
       "    <tr>\n",
       "      <th>8</th>\n",
       "      <td>Qatar</td>\n",
       "      <td>80</td>\n",
       "    </tr>\n",
       "    <tr>\n",
       "      <th>9</th>\n",
       "      <td>Singapure</td>\n",
       "      <td>80</td>\n",
       "    </tr>\n",
       "    <tr>\n",
       "      <th>11</th>\n",
       "      <td>Sri Lanka</td>\n",
       "      <td>80</td>\n",
       "    </tr>\n",
       "  </tbody>\n",
       "</table>\n",
       "</div>"
      ],
      "text/plain": [
       "                     country  restaurant_id\n",
       "4                      India           3111\n",
       "14  United States of America           1374\n",
       "3                    England            400\n",
       "10              South Africa            346\n",
       "13      United Arab Emirates            300\n",
       "1                     Brazil            240\n",
       "6                 New Zeland            239\n",
       "0                  Australia            180\n",
       "2                     Canada            180\n",
       "12                    Turkey            159\n",
       "5                  Indonesia             80\n",
       "7                Philippines             80\n",
       "8                      Qatar             80\n",
       "9                  Singapure             80\n",
       "11                 Sri Lanka             80"
      ]
     },
     "execution_count": 332,
     "metadata": {},
     "output_type": "execute_result"
    }
   ],
   "source": [
    "cols = ['restaurant_id', 'country']\n",
    "\n",
    "df_aux = df4.loc[:, cols].groupby(cols[1]).count().reset_index().sort_values(cols[0], ascending=False)\n",
    "df_aux.iloc[0,0]"
   ]
  },
  {
   "cell_type": "markdown",
   "id": "8f6af2d2",
   "metadata": {
    "heading_collapsed": true
   },
   "source": [
    "### 3. Qual o nome do país que possui mais restaurantes com o nível de preço igual a 4 registrados?\n"
   ]
  },
  {
   "cell_type": "code",
   "execution_count": null,
   "id": "039d2da9",
   "metadata": {
    "ExecuteTime": {
     "start_time": "2023-03-31T02:06:26.774Z"
    },
    "hidden": true
   },
   "outputs": [],
   "source": [
    "cols = ['restaurant_id', 'country']\n",
    "cond = df4['price_type'] == 'gourmet'\n",
    "\n",
    "df_aux = df4.loc[cond, cols].groupby(cols[1:]).count().reset_index().sort_values(cols[0], ascending=False)\n",
    "df_aux.iloc[0,0]"
   ]
  },
  {
   "cell_type": "markdown",
   "id": "af512904",
   "metadata": {
    "heading_collapsed": true
   },
   "source": [
    "### 4. Qual o nome do país que possui a maior quantidade de tipos de culinária distintos?\n"
   ]
  },
  {
   "cell_type": "code",
   "execution_count": null,
   "id": "1e4f5652",
   "metadata": {
    "ExecuteTime": {
     "start_time": "2023-03-31T02:06:26.776Z"
    },
    "hidden": true
   },
   "outputs": [],
   "source": [
    "# Cria loop que filtra o dataset por cada nome de país e retorna o valor unico de valores na coluna 'cuisines', \n",
    "# adiciona esse valor a uma lista e depois cria um dataframe com o nome dos paises\n",
    "lista = []\n",
    "for i in df4['country'].unique():\n",
    "    cond = cond = df4['country'] == i\n",
    "    lista.append(df4.loc[cond, 'cuisines'].nunique())\n",
    "\n",
    "df_paises = pd.DataFrame([df4['country'].unique(), lista]).T\n",
    "df_paises.columns = ['country', 'num_unique_cuisines']\n",
    "df_paises = df_paises.sort_values('num_unique_cuisines', ascending=False)\n",
    "df_paises.iloc[0,0]"
   ]
  },
  {
   "cell_type": "markdown",
   "id": "42fda5fa",
   "metadata": {
    "heading_collapsed": true
   },
   "source": [
    "### 5. Qual o nome do país que possui a maior quantidade de avaliações feitas?\n"
   ]
  },
  {
   "cell_type": "code",
   "execution_count": null,
   "id": "e7683b7c",
   "metadata": {
    "ExecuteTime": {
     "start_time": "2023-03-31T02:06:26.779Z"
    },
    "hidden": true
   },
   "outputs": [],
   "source": [
    "cols = ['country', 'votes']\n",
    "\n",
    "df_aux = df4.loc[:, cols].groupby(cols[0]).sum().reset_index().sort_values(cols[1], ascending=False)\n",
    "df_aux.iloc[0,0]"
   ]
  },
  {
   "cell_type": "markdown",
   "id": "e65cb512",
   "metadata": {
    "heading_collapsed": true
   },
   "source": [
    "### 6. Qual o nome do país que possui a maior quantidade de restaurantes que fazem entrega?\n"
   ]
  },
  {
   "cell_type": "code",
   "execution_count": null,
   "id": "3815483b",
   "metadata": {
    "ExecuteTime": {
     "start_time": "2023-03-31T02:06:26.786Z"
    },
    "hidden": true
   },
   "outputs": [],
   "source": [
    "cols = ['country', 'is_delivering_now']\n",
    "cond = df4['is_delivering_now'] == 'Sim'\n",
    "\n",
    "df_aux = df4.loc[cond, cols].groupby(cols[0]).count().reset_index().sort_values(cols[1], ascending=False)\n",
    "df_aux.iloc[0,0]\n"
   ]
  },
  {
   "cell_type": "markdown",
   "id": "6ef61804",
   "metadata": {
    "heading_collapsed": true
   },
   "source": [
    "### 7. Qual o nome do país que possui a maior quantidade de restaurantes que aceitam reservas?\n"
   ]
  },
  {
   "cell_type": "code",
   "execution_count": null,
   "id": "19c3fb3e",
   "metadata": {
    "ExecuteTime": {
     "start_time": "2023-03-31T02:06:26.788Z"
    },
    "hidden": true
   },
   "outputs": [],
   "source": [
    "cols = ['country', 'has_table_booking']\n",
    "cond = df4['has_table_booking'] == 'Sim'\n",
    "\n",
    "df_aux = df4.loc[cond, cols].groupby(cols[0]).count().reset_index().sort_values(cols[1], ascending=False)\n",
    "df_aux.iloc[0,0]"
   ]
  },
  {
   "cell_type": "markdown",
   "id": "640a9b2a",
   "metadata": {
    "heading_collapsed": true
   },
   "source": [
    "### 8. Qual o nome do país que possui, na média, a maior quantidade de avaliações registrada?\n"
   ]
  },
  {
   "cell_type": "code",
   "execution_count": null,
   "id": "2d3c0e4e",
   "metadata": {
    "ExecuteTime": {
     "start_time": "2023-03-31T02:06:26.790Z"
    },
    "hidden": true
   },
   "outputs": [],
   "source": [
    "cols = ['country', 'votes']\n",
    "\n",
    "df_aux = df4.loc[:, cols].groupby(cols[0]).mean().reset_index().sort_values(cols[1], ascending=False)\n",
    "df_aux.iloc[0,0]"
   ]
  },
  {
   "cell_type": "markdown",
   "id": "63cc7294",
   "metadata": {
    "heading_collapsed": true
   },
   "source": [
    "### 9. Qual o nome do país que possui, na média, a maior nota média registrada?\n"
   ]
  },
  {
   "cell_type": "code",
   "execution_count": null,
   "id": "a93bf3b6",
   "metadata": {
    "ExecuteTime": {
     "start_time": "2023-03-31T02:06:26.792Z"
    },
    "hidden": true
   },
   "outputs": [],
   "source": [
    "cols = ['country', 'aggregate_rating']\n",
    "\n",
    "df_aux = df4.loc[:, cols].groupby(cols[0]).mean().reset_index().sort_values(cols[1], ascending=False)\n",
    "df_aux.iloc[0,0]"
   ]
  },
  {
   "cell_type": "markdown",
   "id": "2483d9af",
   "metadata": {
    "heading_collapsed": true
   },
   "source": [
    "### 10. Qual o nome do país que possui, na média, a menor nota média registrada?\n"
   ]
  },
  {
   "cell_type": "code",
   "execution_count": null,
   "id": "41b41866",
   "metadata": {
    "ExecuteTime": {
     "start_time": "2023-03-31T02:06:26.794Z"
    },
    "hidden": true
   },
   "outputs": [],
   "source": [
    "cols = ['country', 'aggregate_rating']\n",
    "\n",
    "df_aux = df4.loc[:, cols].groupby(cols[0]).mean().reset_index().sort_values(cols[1], ascending=True)\n",
    "df_aux.iloc[0,0]"
   ]
  },
  {
   "cell_type": "markdown",
   "id": "47c78bd9",
   "metadata": {},
   "source": [
    "### 11. Qual a média de preço de um prato para dois por país?"
   ]
  },
  {
   "cell_type": "code",
   "execution_count": 333,
   "id": "4ecbb2c2",
   "metadata": {
    "ExecuteTime": {
     "end_time": "2023-03-31T11:53:18.682480Z",
     "start_time": "2023-03-31T11:53:18.667010Z"
    }
   },
   "outputs": [
    {
     "data": {
      "text/html": [
       "<div>\n",
       "<style scoped>\n",
       "    .dataframe tbody tr th:only-of-type {\n",
       "        vertical-align: middle;\n",
       "    }\n",
       "\n",
       "    .dataframe tbody tr th {\n",
       "        vertical-align: top;\n",
       "    }\n",
       "\n",
       "    .dataframe thead th {\n",
       "        text-align: right;\n",
       "    }\n",
       "</style>\n",
       "<table border=\"1\" class=\"dataframe\">\n",
       "  <thead>\n",
       "    <tr style=\"text-align: right;\">\n",
       "      <th></th>\n",
       "      <th>average_cost_for_two</th>\n",
       "    </tr>\n",
       "    <tr>\n",
       "      <th>country</th>\n",
       "      <th></th>\n",
       "    </tr>\n",
       "  </thead>\n",
       "  <tbody>\n",
       "    <tr>\n",
       "      <th>Australia</th>\n",
       "      <td>138959.783333</td>\n",
       "    </tr>\n",
       "    <tr>\n",
       "      <th>Brazil</th>\n",
       "      <td>138.812500</td>\n",
       "    </tr>\n",
       "    <tr>\n",
       "      <th>Canada</th>\n",
       "      <td>41.861111</td>\n",
       "    </tr>\n",
       "    <tr>\n",
       "      <th>England</th>\n",
       "      <td>43.510000</td>\n",
       "    </tr>\n",
       "    <tr>\n",
       "      <th>India</th>\n",
       "      <td>704.400514</td>\n",
       "    </tr>\n",
       "    <tr>\n",
       "      <th>Indonesia</th>\n",
       "      <td>303000.000000</td>\n",
       "    </tr>\n",
       "    <tr>\n",
       "      <th>New Zeland</th>\n",
       "      <td>62.154812</td>\n",
       "    </tr>\n",
       "    <tr>\n",
       "      <th>Philippines</th>\n",
       "      <td>1227.825000</td>\n",
       "    </tr>\n",
       "    <tr>\n",
       "      <th>Qatar</th>\n",
       "      <td>174.000000</td>\n",
       "    </tr>\n",
       "    <tr>\n",
       "      <th>Singapure</th>\n",
       "      <td>141.437500</td>\n",
       "    </tr>\n",
       "    <tr>\n",
       "      <th>South Africa</th>\n",
       "      <td>339.228324</td>\n",
       "    </tr>\n",
       "    <tr>\n",
       "      <th>Sri Lanka</th>\n",
       "      <td>2579.375000</td>\n",
       "    </tr>\n",
       "    <tr>\n",
       "      <th>Turkey</th>\n",
       "      <td>128.584906</td>\n",
       "    </tr>\n",
       "    <tr>\n",
       "      <th>United Arab Emirates</th>\n",
       "      <td>153.716667</td>\n",
       "    </tr>\n",
       "    <tr>\n",
       "      <th>United States of America</th>\n",
       "      <td>55.029840</td>\n",
       "    </tr>\n",
       "  </tbody>\n",
       "</table>\n",
       "</div>"
      ],
      "text/plain": [
       "                          average_cost_for_two\n",
       "country                                       \n",
       "Australia                        138959.783333\n",
       "Brazil                              138.812500\n",
       "Canada                               41.861111\n",
       "England                              43.510000\n",
       "India                               704.400514\n",
       "Indonesia                        303000.000000\n",
       "New Zeland                           62.154812\n",
       "Philippines                        1227.825000\n",
       "Qatar                               174.000000\n",
       "Singapure                           141.437500\n",
       "South Africa                        339.228324\n",
       "Sri Lanka                          2579.375000\n",
       "Turkey                              128.584906\n",
       "United Arab Emirates                153.716667\n",
       "United States of America             55.029840"
      ]
     },
     "execution_count": 333,
     "metadata": {},
     "output_type": "execute_result"
    }
   ],
   "source": [
    "cols = ['country', 'average_cost_for_two']\n",
    "\n",
    "df_aux = df4.loc[:, cols].groupby(cols[0]).mean()\n",
    "df_aux"
   ]
  },
  {
   "cell_type": "markdown",
   "id": "22387483",
   "metadata": {},
   "source": [
    "## 4.3 Cidade"
   ]
  },
  {
   "cell_type": "markdown",
   "id": "a1b86dfc",
   "metadata": {
    "heading_collapsed": true
   },
   "source": [
    "### 1. Qual o nome da cidade que possui mais restaurantes registrados?\n",
    "\n"
   ]
  },
  {
   "cell_type": "code",
   "execution_count": null,
   "id": "d9c4166d",
   "metadata": {
    "ExecuteTime": {
     "start_time": "2023-03-31T02:06:26.800Z"
    },
    "hidden": true
   },
   "outputs": [],
   "source": [
    "cols = ['city', 'restaurant_id']\n",
    "\n",
    "df_aux = df4.loc[:, cols].groupby(cols[0]).count().reset_index().sort_values(cols[1], ascending=False)\n",
    "df_aux.iloc[0,0]"
   ]
  },
  {
   "cell_type": "markdown",
   "id": "4d78f6c1",
   "metadata": {},
   "source": [
    "### 2. Qual o nome da cidade que possui mais restaurantes com nota média acima de 4?\n"
   ]
  },
  {
   "cell_type": "code",
   "execution_count": 335,
   "id": "56f23059",
   "metadata": {
    "ExecuteTime": {
     "end_time": "2023-03-31T11:54:13.383726Z",
     "start_time": "2023-03-31T11:54:13.366771Z"
    }
   },
   "outputs": [
    {
     "data": {
      "text/html": [
       "<div>\n",
       "<style scoped>\n",
       "    .dataframe tbody tr th:only-of-type {\n",
       "        vertical-align: middle;\n",
       "    }\n",
       "\n",
       "    .dataframe tbody tr th {\n",
       "        vertical-align: top;\n",
       "    }\n",
       "\n",
       "    .dataframe thead th {\n",
       "        text-align: right;\n",
       "    }\n",
       "</style>\n",
       "<table border=\"1\" class=\"dataframe\">\n",
       "  <thead>\n",
       "    <tr style=\"text-align: right;\">\n",
       "      <th></th>\n",
       "      <th>city</th>\n",
       "      <th>restaurant_id</th>\n",
       "    </tr>\n",
       "  </thead>\n",
       "  <tbody>\n",
       "    <tr>\n",
       "      <th>11</th>\n",
       "      <td>Bangalore</td>\n",
       "      <td>79</td>\n",
       "    </tr>\n",
       "    <tr>\n",
       "      <th>56</th>\n",
       "      <td>London</td>\n",
       "      <td>78</td>\n",
       "    </tr>\n",
       "    <tr>\n",
       "      <th>43</th>\n",
       "      <td>Houston</td>\n",
       "      <td>75</td>\n",
       "    </tr>\n",
       "    <tr>\n",
       "      <th>48</th>\n",
       "      <td>Jakarta</td>\n",
       "      <td>74</td>\n",
       "    </tr>\n",
       "    <tr>\n",
       "      <th>23</th>\n",
       "      <td>Chennai</td>\n",
       "      <td>72</td>\n",
       "    </tr>\n",
       "    <tr>\n",
       "      <th>...</th>\n",
       "      <td>...</td>\n",
       "      <td>...</td>\n",
       "    </tr>\n",
       "    <tr>\n",
       "      <th>37</th>\n",
       "      <td>Ghaziabad</td>\n",
       "      <td>1</td>\n",
       "    </tr>\n",
       "    <tr>\n",
       "      <th>100</th>\n",
       "      <td>San Juan City</td>\n",
       "      <td>1</td>\n",
       "    </tr>\n",
       "    <tr>\n",
       "      <th>96</th>\n",
       "      <td>Roodepoort</td>\n",
       "      <td>1</td>\n",
       "    </tr>\n",
       "    <tr>\n",
       "      <th>119</th>\n",
       "      <td>Zirakpur</td>\n",
       "      <td>1</td>\n",
       "    </tr>\n",
       "    <tr>\n",
       "      <th>71</th>\n",
       "      <td>Muntinlupa City</td>\n",
       "      <td>1</td>\n",
       "    </tr>\n",
       "  </tbody>\n",
       "</table>\n",
       "<p>121 rows × 2 columns</p>\n",
       "</div>"
      ],
      "text/plain": [
       "                city  restaurant_id\n",
       "11         Bangalore             79\n",
       "56            London             78\n",
       "43           Houston             75\n",
       "48           Jakarta             74\n",
       "23           Chennai             72\n",
       "..               ...            ...\n",
       "37         Ghaziabad              1\n",
       "100    San Juan City              1\n",
       "96        Roodepoort              1\n",
       "119         Zirakpur              1\n",
       "71   Muntinlupa City              1\n",
       "\n",
       "[121 rows x 2 columns]"
      ]
     },
     "execution_count": 335,
     "metadata": {},
     "output_type": "execute_result"
    }
   ],
   "source": [
    "cols = ['city', 'restaurant_id']\n",
    "cond = df4['aggregate_rating'] > 4\n",
    "\n",
    "df_aux = df4.loc[cond, cols].groupby(cols[0]).count().reset_index().sort_values(cols[1], ascending=False)\n",
    "df_aux"
   ]
  },
  {
   "cell_type": "markdown",
   "id": "d620db16",
   "metadata": {
    "heading_collapsed": true
   },
   "source": [
    "### 3. Qual o nome da cidade que possui mais restaurantes com nota média abaixo de 2.5?\n"
   ]
  },
  {
   "cell_type": "code",
   "execution_count": null,
   "id": "6b470c55",
   "metadata": {
    "ExecuteTime": {
     "start_time": "2023-03-31T02:06:26.804Z"
    },
    "hidden": true
   },
   "outputs": [],
   "source": [
    "cols = ['city', 'restaurant_id']\n",
    "cond = df4['aggregate_rating'] < 2.5\n",
    "\n",
    "df_aux = df4.loc[cond, cols].groupby(cols[0]).count().reset_index().sort_values(cols[1], ascending=False)\n",
    "df_aux.iloc[0,0]"
   ]
  },
  {
   "cell_type": "markdown",
   "id": "ed84e2fd",
   "metadata": {
    "heading_collapsed": true
   },
   "source": [
    "### 4. Qual o nome da cidade que possui o maior valor médio de um prato para dois?\n"
   ]
  },
  {
   "cell_type": "code",
   "execution_count": null,
   "id": "7961c9ba",
   "metadata": {
    "ExecuteTime": {
     "start_time": "2023-03-31T02:06:26.806Z"
    },
    "hidden": true
   },
   "outputs": [],
   "source": [
    "cols = ['city', 'average_cost_for_two']\n",
    "\n",
    "df_aux = df4.loc[:, cols].groupby(cols[0]).mean().reset_index().sort_values(cols[1], ascending=False)\n",
    "df_aux"
   ]
  },
  {
   "cell_type": "markdown",
   "id": "27986d97",
   "metadata": {
    "heading_collapsed": true
   },
   "source": [
    "### 5. Qual o nome da cidade que possui a maior quantidade de tipos de culinária distintas?\n"
   ]
  },
  {
   "cell_type": "code",
   "execution_count": null,
   "id": "e834a098",
   "metadata": {
    "ExecuteTime": {
     "start_time": "2023-03-31T02:06:26.808Z"
    },
    "hidden": true
   },
   "outputs": [],
   "source": [
    "# Cria loop que filtra o dataset por cada nome de país e retorna o valor unico de valores na coluna 'cuisines', \n",
    "# adiciona esse valor a uma lista e depois cria um dataframe com o nome dos paises\n",
    "lista = []\n",
    "for i in df4['city'].unique():\n",
    "    cond = cond = df4['city'] == i\n",
    "    lista.append(df4.loc[cond, 'cuisines'].nunique())\n",
    "\n",
    "df_paises = pd.DataFrame([df4['city'].unique(), lista]).T\n",
    "df_paises.columns = ['city', 'num_unique_cuisines']\n",
    "df_paises = df_paises.sort_values('num_unique_cuisines', ascending=False)\n",
    "df_paises.iloc[0,0]"
   ]
  },
  {
   "cell_type": "markdown",
   "id": "fa9183d3",
   "metadata": {
    "heading_collapsed": true
   },
   "source": [
    "### 6. Qual o nome da cidade que possui a maior quantidade de restaurantes que fazem reservas?\n"
   ]
  },
  {
   "cell_type": "code",
   "execution_count": null,
   "id": "a1222bfa",
   "metadata": {
    "ExecuteTime": {
     "start_time": "2023-03-31T02:06:26.810Z"
    },
    "hidden": true
   },
   "outputs": [],
   "source": [
    "df4.columns"
   ]
  },
  {
   "cell_type": "code",
   "execution_count": null,
   "id": "a8132f47",
   "metadata": {
    "ExecuteTime": {
     "start_time": "2023-03-31T02:06:26.811Z"
    },
    "hidden": true
   },
   "outputs": [],
   "source": [
    "cols = ['city', 'has_table_booking']\n",
    "cond = df4['has_table_booking'] == 'Sim'\n",
    "\n",
    "df_aux = df4.loc[cond, cols].groupby(cols[0]).count().reset_index().sort_values(cols[1], ascending=False)\n",
    "df_aux.iloc[0,0]"
   ]
  },
  {
   "cell_type": "markdown",
   "id": "ca342d6f",
   "metadata": {
    "heading_collapsed": true
   },
   "source": [
    "### 7. Qual o nome da cidade que possui a maior quantidade de restaurantes que fazem entregas?\n"
   ]
  },
  {
   "cell_type": "code",
   "execution_count": null,
   "id": "440ed97c",
   "metadata": {
    "ExecuteTime": {
     "start_time": "2023-03-31T02:06:26.812Z"
    },
    "hidden": true
   },
   "outputs": [],
   "source": [
    "cols = ['city', 'is_delivering_now']\n",
    "cond = df4['is_delivering_now'] == 'Sim'\n",
    "\n",
    "df_aux = df4.loc[cond, cols].groupby(cols[0]).count().reset_index().sort_values(cols[1], ascending=False)\n",
    "df_aux.iloc[0,0]"
   ]
  },
  {
   "cell_type": "markdown",
   "id": "a0892c10",
   "metadata": {
    "heading_collapsed": true
   },
   "source": [
    "### 8. Qual o nome da cidade que possui a maior quantidade de restaurantes que aceitam pedidos online?"
   ]
  },
  {
   "cell_type": "code",
   "execution_count": null,
   "id": "b31de964",
   "metadata": {
    "ExecuteTime": {
     "start_time": "2023-03-31T02:06:26.815Z"
    },
    "hidden": true
   },
   "outputs": [],
   "source": [
    "cols = ['city', 'has_online_delivery']\n",
    "cond = df4['has_online_delivery'] == 'Sim'\n",
    "\n",
    "df_aux = df4.loc[cond, cols].groupby(cols[0]).count().reset_index().sort_values(cols[1], ascending=False)\n",
    "df_aux.iloc[0,0]"
   ]
  },
  {
   "cell_type": "markdown",
   "id": "0d6b5aa0",
   "metadata": {
    "heading_collapsed": true
   },
   "source": [
    "## 4.4 Restaurantes"
   ]
  },
  {
   "cell_type": "code",
   "execution_count": null,
   "id": "fab6ac9a",
   "metadata": {
    "hidden": true
   },
   "outputs": [],
   "source": []
  },
  {
   "cell_type": "markdown",
   "id": "a5a1cdac",
   "metadata": {
    "hidden": true
   },
   "source": [
    "### 1. Qual o nome do restaurante que possui a maior quantidade de avaliações?\n",
    "\n"
   ]
  },
  {
   "cell_type": "code",
   "execution_count": 273,
   "id": "d46a6d29",
   "metadata": {
    "ExecuteTime": {
     "end_time": "2023-03-31T02:10:04.969241Z",
     "start_time": "2023-03-31T02:10:04.957756Z"
    },
    "hidden": true
   },
   "outputs": [
    {
     "data": {
      "text/plain": [
       "'Bawarchi'"
      ]
     },
     "execution_count": 273,
     "metadata": {},
     "output_type": "execute_result"
    }
   ],
   "source": [
    "cols = ['restaurant_name', 'votes']\n",
    "\n",
    "df_aux = df4.loc[:,cols].sort_values(cols[1], ascending=False)\n",
    "df_aux.iloc[0,0]"
   ]
  },
  {
   "cell_type": "markdown",
   "id": "762fa2a4",
   "metadata": {
    "hidden": true
   },
   "source": [
    "### 2. Qual o nome do restaurante com a maior nota média?\n"
   ]
  },
  {
   "cell_type": "code",
   "execution_count": 276,
   "id": "a5677689",
   "metadata": {
    "ExecuteTime": {
     "end_time": "2023-03-31T02:10:34.435382Z",
     "start_time": "2023-03-31T02:10:34.419917Z"
    },
    "hidden": true
   },
   "outputs": [
    {
     "data": {
      "text/plain": [
       "'Baithak'"
      ]
     },
     "execution_count": 276,
     "metadata": {},
     "output_type": "execute_result"
    }
   ],
   "source": [
    "cols = ['restaurant_name', 'aggregate_rating', 'restaurant_id']\n",
    "\n",
    "df_aux = df4.loc[:,cols].sort_values(cols[1:], ascending=False)\n",
    "df_aux.iloc[0,0]"
   ]
  },
  {
   "cell_type": "markdown",
   "id": "22e65c0d",
   "metadata": {
    "hidden": true
   },
   "source": [
    "### 3. Qual o nome do restaurante que possui o maior valor de uma prato para duas pessoas?\n"
   ]
  },
  {
   "cell_type": "code",
   "execution_count": null,
   "id": "3824c293",
   "metadata": {
    "ExecuteTime": {
     "start_time": "2023-03-31T02:06:26.825Z"
    },
    "hidden": true
   },
   "outputs": [],
   "source": [
    "cols = ['restaurant_name', 'average_cost_for_two']\n",
    "\n",
    "df_aux = df4.loc[:,cols].sort_values(cols[1], ascending=False)\n",
    "df_aux.iloc[0,0]"
   ]
  },
  {
   "cell_type": "code",
   "execution_count": 278,
   "id": "88baf2e4",
   "metadata": {
    "ExecuteTime": {
     "end_time": "2023-03-31T02:11:02.675360Z",
     "start_time": "2023-03-31T02:11:02.662638Z"
    },
    "hidden": true
   },
   "outputs": [
    {
     "data": {
      "text/plain": [
       "\"d'Arry's Verandah Restaurant\""
      ]
     },
     "execution_count": 278,
     "metadata": {},
     "output_type": "execute_result"
    }
   ],
   "source": [
    "cols = ['restaurant_name', 'avg_cost_dol']\n",
    "\n",
    "df_aux = df4.loc[:,cols].sort_values(cols[1], ascending=False)\n",
    "df_aux.iloc[0,0]"
   ]
  },
  {
   "cell_type": "markdown",
   "id": "756d3086",
   "metadata": {
    "hidden": true
   },
   "source": [
    "### 4. Qual o nome do restaurante de tipo de culinária brasileira que possui a menor média de avaliação?\n"
   ]
  },
  {
   "cell_type": "code",
   "execution_count": 281,
   "id": "fe925ded",
   "metadata": {
    "ExecuteTime": {
     "end_time": "2023-03-31T02:11:26.708472Z",
     "start_time": "2023-03-31T02:11:26.689576Z"
    },
    "hidden": true
   },
   "outputs": [
    {
     "data": {
      "text/plain": [
       "'Loca Como tu Madre'"
      ]
     },
     "execution_count": 281,
     "metadata": {},
     "output_type": "execute_result"
    }
   ],
   "source": [
    "cols = ['restaurant_name', 'aggregate_rating', 'restaurant_id']\n",
    "cond = df4['cuisines'] == 'Brazilian'\n",
    "\n",
    "df_aux = df4.loc[cond,cols].sort_values(cols[1:], ascending=True)\n",
    "df_aux.iloc[0,0]"
   ]
  },
  {
   "cell_type": "markdown",
   "id": "c2122289",
   "metadata": {
    "hidden": true
   },
   "source": [
    "### 5. Qual o nome do restaurante de tipo de culinária brasileira, e que é do Brasil, que possui a maior média de avaliação?\n"
   ]
  },
  {
   "cell_type": "code",
   "execution_count": 284,
   "id": "8168fd18",
   "metadata": {
    "ExecuteTime": {
     "end_time": "2023-03-31T02:11:51.797870Z",
     "start_time": "2023-03-31T02:11:51.783366Z"
    },
    "hidden": true
   },
   "outputs": [
    {
     "data": {
      "text/plain": [
       "'Aprazível'"
      ]
     },
     "execution_count": 284,
     "metadata": {},
     "output_type": "execute_result"
    }
   ],
   "source": [
    "cols = ['restaurant_name', 'aggregate_rating', 'restaurant_id']\n",
    "cond = (df4['cuisines'] == 'Brazilian') & (df4['country'] == 'Brazil')\n",
    "\n",
    "df_aux = df4.loc[cond,cols].sort_values(cols[1:], ascending=False)\n",
    "df_aux.iloc[0,0]"
   ]
  },
  {
   "cell_type": "markdown",
   "id": "c771523e",
   "metadata": {
    "hidden": true
   },
   "source": [
    "### 6. Os restaurantes que aceitam pedido online são também, na média, os restaurantes que mais possuem avaliações registradas?\n"
   ]
  },
  {
   "cell_type": "code",
   "execution_count": 285,
   "id": "bb30b73e",
   "metadata": {
    "ExecuteTime": {
     "end_time": "2023-03-31T02:12:01.077056Z",
     "start_time": "2023-03-31T02:12:01.058310Z"
    },
    "hidden": true
   },
   "outputs": [
    {
     "data": {
      "text/html": [
       "<div>\n",
       "<style scoped>\n",
       "    .dataframe tbody tr th:only-of-type {\n",
       "        vertical-align: middle;\n",
       "    }\n",
       "\n",
       "    .dataframe tbody tr th {\n",
       "        vertical-align: top;\n",
       "    }\n",
       "\n",
       "    .dataframe thead th {\n",
       "        text-align: right;\n",
       "    }\n",
       "</style>\n",
       "<table border=\"1\" class=\"dataframe\">\n",
       "  <thead>\n",
       "    <tr style=\"text-align: right;\">\n",
       "      <th></th>\n",
       "      <th>has_online_delivery</th>\n",
       "      <th>votes</th>\n",
       "    </tr>\n",
       "  </thead>\n",
       "  <tbody>\n",
       "    <tr>\n",
       "      <th>1</th>\n",
       "      <td>Sim</td>\n",
       "      <td>838.821664</td>\n",
       "    </tr>\n",
       "    <tr>\n",
       "      <th>0</th>\n",
       "      <td>Não</td>\n",
       "      <td>479.421018</td>\n",
       "    </tr>\n",
       "  </tbody>\n",
       "</table>\n",
       "</div>"
      ],
      "text/plain": [
       "  has_online_delivery       votes\n",
       "1                 Sim  838.821664\n",
       "0                 Não  479.421018"
      ]
     },
     "execution_count": 285,
     "metadata": {},
     "output_type": "execute_result"
    }
   ],
   "source": [
    "cols = ['has_online_delivery', 'votes']\n",
    "\n",
    "df_aux = df4.loc[:, cols].groupby(cols[0]).mean().reset_index().sort_values(cols[1], ascending=False)\n",
    "df_aux"
   ]
  },
  {
   "cell_type": "markdown",
   "id": "4f42f65c",
   "metadata": {
    "hidden": true
   },
   "source": [
    "### 7. Os restaurantes que fazem reservas são também, na média, os restaurantes que possuem o maior valor médio de um prato para duas pessoas?\n"
   ]
  },
  {
   "cell_type": "code",
   "execution_count": 286,
   "id": "cc3de919",
   "metadata": {
    "ExecuteTime": {
     "end_time": "2023-03-31T02:12:05.259320Z",
     "start_time": "2023-03-31T02:12:05.246730Z"
    },
    "hidden": true
   },
   "outputs": [
    {
     "data": {
      "text/html": [
       "<div>\n",
       "<style scoped>\n",
       "    .dataframe tbody tr th:only-of-type {\n",
       "        vertical-align: middle;\n",
       "    }\n",
       "\n",
       "    .dataframe tbody tr th {\n",
       "        vertical-align: top;\n",
       "    }\n",
       "\n",
       "    .dataframe thead th {\n",
       "        text-align: right;\n",
       "    }\n",
       "</style>\n",
       "<table border=\"1\" class=\"dataframe\">\n",
       "  <thead>\n",
       "    <tr style=\"text-align: right;\">\n",
       "      <th></th>\n",
       "      <th>has_table_booking</th>\n",
       "      <th>average_cost_for_two</th>\n",
       "    </tr>\n",
       "  </thead>\n",
       "  <tbody>\n",
       "    <tr>\n",
       "      <th>1</th>\n",
       "      <td>Sim</td>\n",
       "      <td>69998.423810</td>\n",
       "    </tr>\n",
       "    <tr>\n",
       "      <th>0</th>\n",
       "      <td>Não</td>\n",
       "      <td>3488.596866</td>\n",
       "    </tr>\n",
       "  </tbody>\n",
       "</table>\n",
       "</div>"
      ],
      "text/plain": [
       "  has_table_booking  average_cost_for_two\n",
       "1               Sim          69998.423810\n",
       "0               Não           3488.596866"
      ]
     },
     "execution_count": 286,
     "metadata": {},
     "output_type": "execute_result"
    }
   ],
   "source": [
    "cols = ['has_table_booking', 'average_cost_for_two']\n",
    "\n",
    "df_aux = df4.loc[:, cols].groupby(cols[0]).mean().reset_index().sort_values(cols[1], ascending=False)\n",
    "df_aux"
   ]
  },
  {
   "cell_type": "code",
   "execution_count": 287,
   "id": "c16268b8",
   "metadata": {
    "ExecuteTime": {
     "end_time": "2023-03-31T02:12:05.978437Z",
     "start_time": "2023-03-31T02:12:05.954520Z"
    },
    "hidden": true
   },
   "outputs": [
    {
     "data": {
      "text/html": [
       "<div>\n",
       "<style scoped>\n",
       "    .dataframe tbody tr th:only-of-type {\n",
       "        vertical-align: middle;\n",
       "    }\n",
       "\n",
       "    .dataframe tbody tr th {\n",
       "        vertical-align: top;\n",
       "    }\n",
       "\n",
       "    .dataframe thead th {\n",
       "        text-align: right;\n",
       "    }\n",
       "</style>\n",
       "<table border=\"1\" class=\"dataframe\">\n",
       "  <thead>\n",
       "    <tr style=\"text-align: right;\">\n",
       "      <th></th>\n",
       "      <th>has_table_booking</th>\n",
       "      <th>avg_cost_dol</th>\n",
       "    </tr>\n",
       "  </thead>\n",
       "  <tbody>\n",
       "    <tr>\n",
       "      <th>1</th>\n",
       "      <td>Sim</td>\n",
       "      <td>59561.292667</td>\n",
       "    </tr>\n",
       "    <tr>\n",
       "      <th>0</th>\n",
       "      <td>Não</td>\n",
       "      <td>30.035434</td>\n",
       "    </tr>\n",
       "  </tbody>\n",
       "</table>\n",
       "</div>"
      ],
      "text/plain": [
       "  has_table_booking  avg_cost_dol\n",
       "1               Sim  59561.292667\n",
       "0               Não     30.035434"
      ]
     },
     "execution_count": 287,
     "metadata": {},
     "output_type": "execute_result"
    }
   ],
   "source": [
    "cols = ['has_table_booking', 'avg_cost_dol']\n",
    "\n",
    "df_aux = df4.loc[:, cols].groupby(cols[0]).mean().reset_index().sort_values(cols[1], ascending=False)\n",
    "df_aux"
   ]
  },
  {
   "cell_type": "markdown",
   "id": "6c2f8703",
   "metadata": {
    "hidden": true
   },
   "source": [
    "### 8. Os restaurantes do tipo de culinária japonesa dos Estados Unidos da América possuem um valor médio de prato para duas pessoas maior que as churrascarias americanas (BBQ)?"
   ]
  },
  {
   "cell_type": "code",
   "execution_count": 288,
   "id": "665e29d7",
   "metadata": {
    "ExecuteTime": {
     "end_time": "2023-03-31T02:12:13.687497Z",
     "start_time": "2023-03-31T02:12:13.670499Z"
    },
    "hidden": true
   },
   "outputs": [
    {
     "data": {
      "text/html": [
       "<div>\n",
       "<style scoped>\n",
       "    .dataframe tbody tr th:only-of-type {\n",
       "        vertical-align: middle;\n",
       "    }\n",
       "\n",
       "    .dataframe tbody tr th {\n",
       "        vertical-align: top;\n",
       "    }\n",
       "\n",
       "    .dataframe thead th {\n",
       "        text-align: right;\n",
       "    }\n",
       "</style>\n",
       "<table border=\"1\" class=\"dataframe\">\n",
       "  <thead>\n",
       "    <tr style=\"text-align: right;\">\n",
       "      <th></th>\n",
       "      <th>cuisines</th>\n",
       "      <th>avg_cost_dol</th>\n",
       "    </tr>\n",
       "  </thead>\n",
       "  <tbody>\n",
       "    <tr>\n",
       "      <th>3</th>\n",
       "      <td>BBQ</td>\n",
       "      <td>39.642857</td>\n",
       "    </tr>\n",
       "    <tr>\n",
       "      <th>41</th>\n",
       "      <td>Japanese</td>\n",
       "      <td>56.406250</td>\n",
       "    </tr>\n",
       "  </tbody>\n",
       "</table>\n",
       "</div>"
      ],
      "text/plain": [
       "    cuisines  avg_cost_dol\n",
       "3        BBQ     39.642857\n",
       "41  Japanese     56.406250"
      ]
     },
     "execution_count": 288,
     "metadata": {},
     "output_type": "execute_result"
    }
   ],
   "source": [
    "cols = ['cuisines', 'avg_cost_dol']\n",
    "cond = (df4['country'] == 'United States of America')\n",
    "\n",
    "df_aux = df4.loc[cond, cols].groupby(cols[0]).mean().reset_index()\n",
    "\n",
    "cond = (df_aux['cuisines'] == 'BBQ') | (df_aux['cuisines'] == 'Japanese')\n",
    "\n",
    "df_aux.loc[cond, :]"
   ]
  },
  {
   "cell_type": "markdown",
   "id": "73232b40",
   "metadata": {
    "ExecuteTime": {
     "end_time": "2023-03-29T21:50:11.827753Z",
     "start_time": "2023-03-29T21:50:11.814256Z"
    }
   },
   "source": [
    "## 4.5 Tipos de Culinária"
   ]
  },
  {
   "cell_type": "markdown",
   "id": "923b0223",
   "metadata": {},
   "source": [
    "### 1. Dos restaurantes que possuem o tipo de culinária italiana, qual o nome do restaurante com a maior média de avaliação?\n",
    "\n"
   ]
  },
  {
   "cell_type": "code",
   "execution_count": 266,
   "id": "66e2aadd",
   "metadata": {
    "ExecuteTime": {
     "end_time": "2023-03-31T02:06:33.665135Z",
     "start_time": "2023-03-31T02:06:33.649583Z"
    }
   },
   "outputs": [
    {
     "data": {
      "text/plain": [
       "Index(['restaurant_id', 'restaurant_name', 'city', 'address', 'locality',\n",
       "       'locality_verbose', 'longitude', 'latitude', 'cuisines',\n",
       "       'average_cost_for_two', 'currency', 'has_table_booking',\n",
       "       'has_online_delivery', 'is_delivering_now', 'aggregate_rating',\n",
       "       'rating_color', 'votes', 'country', 'price_type', 'rating_text_pt',\n",
       "       'avg_cost_dol'],\n",
       "      dtype='object')"
      ]
     },
     "execution_count": 266,
     "metadata": {},
     "output_type": "execute_result"
    }
   ],
   "source": [
    "df4.columns"
   ]
  },
  {
   "cell_type": "code",
   "execution_count": 329,
   "id": "ae2fa4a5",
   "metadata": {
    "ExecuteTime": {
     "end_time": "2023-03-31T11:46:28.328017Z",
     "start_time": "2023-03-31T11:46:28.276639Z"
    }
   },
   "outputs": [
    {
     "data": {
      "text/html": [
       "<div>\n",
       "<style scoped>\n",
       "    .dataframe tbody tr th:only-of-type {\n",
       "        vertical-align: middle;\n",
       "    }\n",
       "\n",
       "    .dataframe tbody tr th {\n",
       "        vertical-align: top;\n",
       "    }\n",
       "\n",
       "    .dataframe thead th {\n",
       "        text-align: right;\n",
       "    }\n",
       "</style>\n",
       "<table border=\"1\" class=\"dataframe\">\n",
       "  <thead>\n",
       "    <tr style=\"text-align: right;\">\n",
       "      <th></th>\n",
       "      <th>restaurant_name</th>\n",
       "      <th>aggregate_rating</th>\n",
       "      <th>restaurant_id</th>\n",
       "    </tr>\n",
       "  </thead>\n",
       "  <tbody>\n",
       "    <tr>\n",
       "      <th>6113</th>\n",
       "      <td>Amano Restaurant</td>\n",
       "      <td>4.9</td>\n",
       "      <td>18393092</td>\n",
       "    </tr>\n",
       "    <tr>\n",
       "      <th>4056</th>\n",
       "      <td>Zolocrust - Hotel Clarks Amer</td>\n",
       "      <td>4.9</td>\n",
       "      <td>18209498</td>\n",
       "    </tr>\n",
       "    <tr>\n",
       "      <th>1397</th>\n",
       "      <td>Central Grocery</td>\n",
       "      <td>4.9</td>\n",
       "      <td>17242351</td>\n",
       "    </tr>\n",
       "    <tr>\n",
       "      <th>1819</th>\n",
       "      <td>Guillermo's</td>\n",
       "      <td>4.9</td>\n",
       "      <td>17156955</td>\n",
       "    </tr>\n",
       "    <tr>\n",
       "      <th>1805</th>\n",
       "      <td>Cerroni's Purple Garlic</td>\n",
       "      <td>4.9</td>\n",
       "      <td>17156258</td>\n",
       "    </tr>\n",
       "    <tr>\n",
       "      <th>...</th>\n",
       "      <td>...</td>\n",
       "      <td>...</td>\n",
       "      <td>...</td>\n",
       "    </tr>\n",
       "    <tr>\n",
       "      <th>242</th>\n",
       "      <td>Bene - Sheraton Rio Hotel</td>\n",
       "      <td>0.0</td>\n",
       "      <td>7304910</td>\n",
       "    </tr>\n",
       "    <tr>\n",
       "      <th>6723</th>\n",
       "      <td>Le Delicatezze Di Bruno</td>\n",
       "      <td>0.0</td>\n",
       "      <td>6800666</td>\n",
       "    </tr>\n",
       "    <tr>\n",
       "      <th>324</th>\n",
       "      <td>Più</td>\n",
       "      <td>0.0</td>\n",
       "      <td>6715707</td>\n",
       "    </tr>\n",
       "    <tr>\n",
       "      <th>305</th>\n",
       "      <td>Ristorantino</td>\n",
       "      <td>0.0</td>\n",
       "      <td>6714499</td>\n",
       "    </tr>\n",
       "    <tr>\n",
       "      <th>150</th>\n",
       "      <td>Avenida Paulista</td>\n",
       "      <td>0.0</td>\n",
       "      <td>6600542</td>\n",
       "    </tr>\n",
       "  </tbody>\n",
       "</table>\n",
       "<p>390 rows × 3 columns</p>\n",
       "</div>"
      ],
      "text/plain": [
       "                    restaurant_name  aggregate_rating  restaurant_id\n",
       "6113               Amano Restaurant               4.9       18393092\n",
       "4056  Zolocrust - Hotel Clarks Amer               4.9       18209498\n",
       "1397                Central Grocery               4.9       17242351\n",
       "1819                    Guillermo's               4.9       17156955\n",
       "1805        Cerroni's Purple Garlic               4.9       17156258\n",
       "...                             ...               ...            ...\n",
       "242       Bene - Sheraton Rio Hotel               0.0        7304910\n",
       "6723        Le Delicatezze Di Bruno               0.0        6800666\n",
       "324                             Più               0.0        6715707\n",
       "305                    Ristorantino               0.0        6714499\n",
       "150                Avenida Paulista               0.0        6600542\n",
       "\n",
       "[390 rows x 3 columns]"
      ]
     },
     "execution_count": 329,
     "metadata": {},
     "output_type": "execute_result"
    }
   ],
   "source": [
    "cols = ['restaurant_name', 'aggregate_rating', 'restaurant_id']\n",
    "cond = df4['cuisines'] == 'Italian'\n",
    "\n",
    "df_aux = df4.loc[cond, cols].sort_values(cols[1:], ascending=False)\n",
    "\n",
    "df_aux"
   ]
  },
  {
   "cell_type": "markdown",
   "id": "1e6d49d8",
   "metadata": {},
   "source": [
    "### 2. Dos restaurantes que possuem o tipo de culinária italiana, qual o nome do restaurante com a menor média de avaliação?\n"
   ]
  },
  {
   "cell_type": "code",
   "execution_count": 291,
   "id": "51e48e44",
   "metadata": {
    "ExecuteTime": {
     "end_time": "2023-03-31T02:13:14.211115Z",
     "start_time": "2023-03-31T02:13:14.194647Z"
    }
   },
   "outputs": [
    {
     "data": {
      "text/plain": [
       "'Avenida Paulista'"
      ]
     },
     "execution_count": 291,
     "metadata": {},
     "output_type": "execute_result"
    }
   ],
   "source": [
    "cols = ['restaurant_name', 'aggregate_rating', 'restaurant_id']\n",
    "cond = df4['cuisines'] == 'Italian'\n",
    "\n",
    "df_aux = df4.loc[cond, cols].sort_values(cols[1:], ascending=True)\n",
    "\n",
    "df_aux.iloc[0,0]"
   ]
  },
  {
   "cell_type": "markdown",
   "id": "9b779acb",
   "metadata": {},
   "source": [
    "### 3. Dos restaurantes que possuem o tipo de culinária americana, qual o nome do restaurante com a maior média de avaliação?\n"
   ]
  },
  {
   "cell_type": "code",
   "execution_count": 293,
   "id": "fb8bfac1",
   "metadata": {
    "ExecuteTime": {
     "end_time": "2023-03-31T02:13:38.088485Z",
     "start_time": "2023-03-31T02:13:38.074247Z"
    }
   },
   "outputs": [
    {
     "data": {
      "text/plain": [
       "'Cut By Wolfgang Puck'"
      ]
     },
     "execution_count": 293,
     "metadata": {},
     "output_type": "execute_result"
    }
   ],
   "source": [
    "cols = ['restaurant_name', 'aggregate_rating', 'restaurant_id']\n",
    "cond = df4['cuisines'] == 'American'\n",
    "\n",
    "df_aux = df4.loc[cond, cols].sort_values(cols[1:], ascending=False)\n",
    "\n",
    "df_aux.iloc[0,0]"
   ]
  },
  {
   "cell_type": "markdown",
   "id": "ea1e6ecf",
   "metadata": {},
   "source": [
    "### 4. Dos restaurantes que possuem o tipo de culinária americana, qual o nome do restaurante com a menor média de avaliação?\n"
   ]
  },
  {
   "cell_type": "code",
   "execution_count": 294,
   "id": "9116759f",
   "metadata": {
    "ExecuteTime": {
     "end_time": "2023-03-31T02:13:50.494777Z",
     "start_time": "2023-03-31T02:13:50.483271Z"
    }
   },
   "outputs": [
    {
     "data": {
      "text/plain": [
       "'Alston Bar & Beef'"
      ]
     },
     "execution_count": 294,
     "metadata": {},
     "output_type": "execute_result"
    }
   ],
   "source": [
    "cols = ['restaurant_name', 'aggregate_rating', 'restaurant_id']\n",
    "cond = df4['cuisines'] == 'American'\n",
    "\n",
    "df_aux = df4.loc[cond, cols].sort_values(cols[1:], ascending=True)\n",
    "\n",
    "df_aux.iloc[0,0]"
   ]
  },
  {
   "cell_type": "markdown",
   "id": "f3c43be1",
   "metadata": {},
   "source": [
    "### 5. Dos restaurantes que possuem o tipo de culinária árabe, qual o nome do restaurante com a maior média de avaliação?\n"
   ]
  },
  {
   "cell_type": "code",
   "execution_count": 299,
   "id": "1307c0e9",
   "metadata": {
    "ExecuteTime": {
     "end_time": "2023-03-31T02:14:31.563536Z",
     "start_time": "2023-03-31T02:14:31.554047Z"
    }
   },
   "outputs": [
    {
     "data": {
      "text/plain": [
       "'Mandi@36'"
      ]
     },
     "execution_count": 299,
     "metadata": {},
     "output_type": "execute_result"
    }
   ],
   "source": [
    "cols = ['restaurant_name', 'aggregate_rating', 'restaurant_id']\n",
    "cond = df4['cuisines'] == 'Arabian'\n",
    "\n",
    "df_aux = df4.loc[cond, cols].sort_values(cols[1:], ascending=False)\n",
    "\n",
    "df_aux.iloc[0,0]"
   ]
  },
  {
   "cell_type": "markdown",
   "id": "77b8dad4",
   "metadata": {},
   "source": [
    "### 6. Dos restaurantes que possuem o tipo de culinária árabe, qual o nome do restaurante com a menor média de avaliação?\n"
   ]
  },
  {
   "cell_type": "code",
   "execution_count": 301,
   "id": "8b13e4a9",
   "metadata": {
    "ExecuteTime": {
     "end_time": "2023-03-31T02:14:47.833239Z",
     "start_time": "2023-03-31T02:14:47.814914Z"
    }
   },
   "outputs": [
    {
     "data": {
      "text/plain": [
       "'Raful'"
      ]
     },
     "execution_count": 301,
     "metadata": {},
     "output_type": "execute_result"
    }
   ],
   "source": [
    "cols = ['restaurant_name', 'aggregate_rating', 'restaurant_id']\n",
    "cond = df4['cuisines'] == 'Arabian'\n",
    "\n",
    "df_aux = df4.loc[cond, cols].sort_values(cols[1:], ascending=True)\n",
    "\n",
    "df_aux.iloc[0,0]"
   ]
  },
  {
   "cell_type": "markdown",
   "id": "6b7e7d6c",
   "metadata": {},
   "source": [
    "### 7. Dos restaurantes que possuem o tipo de culinária japonesa, qual o nome do restaurante com a maior média de avaliação?\n"
   ]
  },
  {
   "cell_type": "code",
   "execution_count": 302,
   "id": "46ca4ef1",
   "metadata": {
    "ExecuteTime": {
     "end_time": "2023-03-31T02:15:00.353276Z",
     "start_time": "2023-03-31T02:15:00.334392Z"
    }
   },
   "outputs": [
    {
     "data": {
      "text/plain": [
       "'Sushi Go!'"
      ]
     },
     "execution_count": 302,
     "metadata": {},
     "output_type": "execute_result"
    }
   ],
   "source": [
    "cols = ['restaurant_name', 'aggregate_rating', 'restaurant_id']\n",
    "cond = df4['cuisines'] == 'Japanese'\n",
    "\n",
    "df_aux = df4.loc[cond, cols].sort_values(cols[1:], ascending=False)\n",
    "\n",
    "df_aux.iloc[0,0]"
   ]
  },
  {
   "cell_type": "markdown",
   "id": "18ba2e10",
   "metadata": {},
   "source": [
    "### 8. Dos restaurantes que possuem o tipo de culinária japonesa, qual o nome do restaurante com a menor média de avaliação?\n"
   ]
  },
  {
   "cell_type": "code",
   "execution_count": 303,
   "id": "fa6b6fb4",
   "metadata": {
    "ExecuteTime": {
     "end_time": "2023-03-31T02:15:07.784473Z",
     "start_time": "2023-03-31T02:15:07.765635Z"
    }
   },
   "outputs": [
    {
     "data": {
      "text/plain": [
       "'Banzai Sushi'"
      ]
     },
     "execution_count": 303,
     "metadata": {},
     "output_type": "execute_result"
    }
   ],
   "source": [
    "cols = ['restaurant_name', 'aggregate_rating', 'restaurant_id']\n",
    "cond = df4['cuisines'] == 'Japanese'\n",
    "\n",
    "df_aux = df4.loc[cond, cols].sort_values(cols[1:], ascending=True)\n",
    "\n",
    "df_aux.iloc[0,0]"
   ]
  },
  {
   "cell_type": "markdown",
   "id": "faf5e082",
   "metadata": {},
   "source": [
    "### 9. Dos restaurantes que possuem o tipo de culinária caseira, qual o nome do restaurante com a maior média de avaliação?\n"
   ]
  },
  {
   "cell_type": "code",
   "execution_count": 305,
   "id": "523437bf",
   "metadata": {
    "ExecuteTime": {
     "end_time": "2023-03-31T02:16:39.299288Z",
     "start_time": "2023-03-31T02:16:39.284786Z"
    }
   },
   "outputs": [
    {
     "data": {
      "text/plain": [
       "'Kanaat Lokantası'"
      ]
     },
     "execution_count": 305,
     "metadata": {},
     "output_type": "execute_result"
    }
   ],
   "source": [
    "cols = ['restaurant_name', 'aggregate_rating', 'restaurant_id']\n",
    "cond = df4['cuisines'] == 'Home-made'\n",
    "\n",
    "df_aux = df4.loc[cond, cols].sort_values(cols[1:], ascending=False)\n",
    "\n",
    "df_aux.iloc[0,0]"
   ]
  },
  {
   "cell_type": "markdown",
   "id": "d3156271",
   "metadata": {},
   "source": [
    "### 10. Dos restaurantes que possuem o tipo de culinária caseira, qual o nome do restaurante com a menor média de avaliação?\n"
   ]
  },
  {
   "cell_type": "code",
   "execution_count": 306,
   "id": "5029adcc",
   "metadata": {
    "ExecuteTime": {
     "end_time": "2023-03-31T02:16:52.550427Z",
     "start_time": "2023-03-31T02:16:52.533541Z"
    }
   },
   "outputs": [
    {
     "data": {
      "text/plain": [
       "'GurMekan Restaurant'"
      ]
     },
     "execution_count": 306,
     "metadata": {},
     "output_type": "execute_result"
    }
   ],
   "source": [
    "cols = ['restaurant_name', 'aggregate_rating', 'restaurant_id']\n",
    "cond = df4['cuisines'] == 'Home-made'\n",
    "\n",
    "df_aux = df4.loc[cond, cols].sort_values(cols[1:], ascending=True)\n",
    "\n",
    "df_aux.iloc[0,0]"
   ]
  },
  {
   "cell_type": "markdown",
   "id": "4c6e5ff8",
   "metadata": {},
   "source": [
    "### 11. Qual o tipo de culinária que possui o maior valor médio de um prato para duas pessoas?\n"
   ]
  },
  {
   "cell_type": "code",
   "execution_count": 315,
   "id": "6d763a15",
   "metadata": {
    "ExecuteTime": {
     "end_time": "2023-03-31T02:22:49.756927Z",
     "start_time": "2023-03-31T02:22:49.742089Z"
    }
   },
   "outputs": [
    {
     "data": {
      "text/plain": [
       "'Modern Australian'"
      ]
     },
     "execution_count": 315,
     "metadata": {},
     "output_type": "execute_result"
    }
   ],
   "source": [
    "cols = ['cuisines', 'average_cost_for_two', 'avg_cost_dol']\n",
    "\n",
    "df_aux = df4.loc[:, cols].groupby(cols[0]).mean().reset_index().sort_values(cols[2], ascending=False)\n",
    "\n",
    "df_aux.iloc[0,0]"
   ]
  },
  {
   "cell_type": "markdown",
   "id": "752b2615",
   "metadata": {},
   "source": [
    "### 12. Qual o tipo de culinária que possui a maior nota média?\n"
   ]
  },
  {
   "cell_type": "code",
   "execution_count": 316,
   "id": "64064ec6",
   "metadata": {
    "ExecuteTime": {
     "end_time": "2023-03-31T02:23:05.527516Z",
     "start_time": "2023-03-31T02:23:05.513960Z"
    }
   },
   "outputs": [
    {
     "data": {
      "text/plain": [
       "Index(['restaurant_id', 'restaurant_name', 'city', 'address', 'locality',\n",
       "       'locality_verbose', 'longitude', 'latitude', 'cuisines',\n",
       "       'average_cost_for_two', 'currency', 'has_table_booking',\n",
       "       'has_online_delivery', 'is_delivering_now', 'aggregate_rating',\n",
       "       'rating_color', 'votes', 'country', 'price_type', 'rating_text_pt',\n",
       "       'avg_cost_dol'],\n",
       "      dtype='object')"
      ]
     },
     "execution_count": 316,
     "metadata": {},
     "output_type": "execute_result"
    }
   ],
   "source": [
    "df4.columns"
   ]
  },
  {
   "cell_type": "code",
   "execution_count": 321,
   "id": "2b6e5b57",
   "metadata": {
    "ExecuteTime": {
     "end_time": "2023-03-31T02:25:11.216783Z",
     "start_time": "2023-03-31T02:25:11.198128Z"
    }
   },
   "outputs": [
    {
     "data": {
      "text/plain": [
       "'Ramen'"
      ]
     },
     "execution_count": 321,
     "metadata": {},
     "output_type": "execute_result"
    }
   ],
   "source": [
    "cols = ['cuisines', 'aggregate_rating', 'restaurant_id']\n",
    "\n",
    "df_aux = df4.loc[:, cols].groupby(cols[0]).mean().reset_index().sort_values(cols[1:], ascending=False)\n",
    "\n",
    "df_aux.iloc[1,0]"
   ]
  },
  {
   "cell_type": "markdown",
   "id": "a0c61a33",
   "metadata": {},
   "source": [
    "### 13. Qual o tipo de culinária que possui mais restaurantes que aceitam pedidos online e fazem entregas?"
   ]
  },
  {
   "cell_type": "code",
   "execution_count": 328,
   "id": "41804f2d",
   "metadata": {
    "ExecuteTime": {
     "end_time": "2023-03-31T02:29:02.456001Z",
     "start_time": "2023-03-31T02:29:02.438406Z"
    }
   },
   "outputs": [
    {
     "data": {
      "text/plain": [
       "'North Indian'"
      ]
     },
     "execution_count": 328,
     "metadata": {},
     "output_type": "execute_result"
    }
   ],
   "source": [
    "cols = ['cuisines', 'has_online_delivery', 'is_delivering_now']\n",
    "cond = (df4['has_online_delivery'] == 'Sim') & (df4['is_delivering_now'] == 'Sim')\n",
    "\n",
    "\n",
    "df_aux = df4.loc[cond, cols].groupby(cols[0]).count().reset_index().sort_values(cols[1], ascending=False)\n",
    "\n",
    "df_aux.iloc[0,0]"
   ]
  },
  {
   "cell_type": "code",
   "execution_count": null,
   "id": "8e09e596",
   "metadata": {},
   "outputs": [],
   "source": []
  }
 ],
 "metadata": {
  "kernelspec": {
   "display_name": "Python 3 (ipykernel)",
   "language": "python",
   "name": "python3"
  },
  "language_info": {
   "codemirror_mode": {
    "name": "ipython",
    "version": 3
   },
   "file_extension": ".py",
   "mimetype": "text/x-python",
   "name": "python",
   "nbconvert_exporter": "python",
   "pygments_lexer": "ipython3",
   "version": "3.9.16"
  },
  "varInspector": {
   "cols": {
    "lenName": 16,
    "lenType": 16,
    "lenVar": 40
   },
   "kernels_config": {
    "python": {
     "delete_cmd_postfix": "",
     "delete_cmd_prefix": "del ",
     "library": "var_list.py",
     "varRefreshCmd": "print(var_dic_list())"
    },
    "r": {
     "delete_cmd_postfix": ") ",
     "delete_cmd_prefix": "rm(",
     "library": "var_list.r",
     "varRefreshCmd": "cat(var_dic_list()) "
    }
   },
   "types_to_exclude": [
    "module",
    "function",
    "builtin_function_or_method",
    "instance",
    "_Feature"
   ],
   "window_display": false
  }
 },
 "nbformat": 4,
 "nbformat_minor": 5
}
